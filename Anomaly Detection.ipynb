{
 "cells": [
  {
   "cell_type": "markdown",
   "id": "65e01b34-182f-4cbb-8b7d-9536a3adcfe8",
   "metadata": {},
   "source": [
    "<a id=\"import\"></a>\n",
    "# <p style=\"background-color:coral; font-family:calibri; color:Black; font-size:150%; text-align:center; border-radius:25px 25px;\">Anomaly Detection and Event Prediction Using Sensor Networks</p>"
   ]
  },
  {
   "cell_type": "markdown",
   "id": "c54dc49a-4678-42ec-bb58-298739e3d698",
   "metadata": {},
   "source": [
    "<div style=\"border-radius:10px; padding: 15px; background-color:white; font-size:120%; text-align:left\">\n",
    "\n",
    "<h3 align=\"left\"><font color=Black>Problem Statement:</font></h3>\n",
    "\n",
    "The goal of this project is to develop a comprehensive Anomaly Detection and Event Prediction system aimed at significantly enhancing monitoring capabilities within sensor networks. This system will enable proactive responses to potential issues, ultimately revolutionizing sensor network technology. The system should offer actionable insights to optimize resource allocation and operational efficiency."
   ]
  },
  {
   "cell_type": "markdown",
   "id": "a4ac6637-6a18-4ee7-9b7f-7cf8690d14b7",
   "metadata": {},
   "source": [
    "# Importing Libraries"
   ]
  },
  {
   "cell_type": "code",
   "execution_count": 1,
   "id": "ef547b7f",
   "metadata": {},
   "outputs": [],
   "source": [
    "import numpy as np\n",
    "import pandas as pd\n",
    "import time\n",
    "\n",
    "%matplotlib inline\n",
    "import matplotlib.pyplot as plt\n",
    "import seaborn as sns\n",
    "from matplotlib.colors import ListedColormap\n",
    "\n",
    "import tensorflow as tf\n",
    "from matplotlib import pyplot\n",
    "from tensorflow.keras import Model\n",
    "from tensorflow.keras import Sequential\n",
    "from tensorflow.keras.models import Sequential, Model\n",
    "from tensorflow.keras.layers import Conv2D, Input, Dropout, Activation, Dense, MaxPooling2D, Flatten, GlobalAveragePooling2D\n",
    "from tensorflow.keras.optimizers import Adadelta\n",
    "from tensorflow.keras.callbacks import ModelCheckpoint\n",
    "from tensorflow.keras.layers import Dense\n",
    "from tensorflow.keras.layers import LSTM\n",
    "\n",
    "import sklearn\n",
    "from sklearn.cluster import KMeans\n",
    "from sklearn.preprocessing import MinMaxScaler\n",
    "from sklearn.model_selection import train_test_split\n",
    "from scipy.stats import boxcox\n",
    "from sklearn.pipeline import Pipeline\n",
    "from sklearn.preprocessing import StandardScaler\n",
    "from sklearn.model_selection import GridSearchCV, StratifiedKFold\n",
    "from sklearn import svm\n",
    "from sklearn.linear_model import LinearRegression\n",
    "from sklearn.svm import SVC\n",
    "from sklearn.naive_bayes import GaussianNB\n",
    "from sklearn.tree import DecisionTreeClassifier\n",
    "from sklearn.ensemble import RandomForestClassifier\n",
    "from sklearn.linear_model import LogisticRegression\n",
    "from sklearn.metrics import classification_report, accuracy_score, confusion_matrix\n",
    "from sklearn.ensemble import IsolationForest\n",
    "from sklearn.preprocessing import StandardScaler\n",
    "import tkinter as tk\n",
    "from tkinter import messagebox\n",
    "from sklearn.metrics import confusion_matrix, accuracy_score, precision_score, recall_score, f1_score\n",
    "\n",
    "import ipywidgets as widgets\n",
    "from IPython.display import display, HTML\n",
    "from scipy import stats\n",
    "\n",
    "\n",
    "import warnings\n",
    "warnings.filterwarnings('ignore')"
   ]
  },
  {
   "cell_type": "markdown",
   "id": "484320e3",
   "metadata": {},
   "source": [
    "# Load and Inspect the Data"
   ]
  },
  {
   "cell_type": "code",
   "execution_count": 2,
   "id": "52126c05",
   "metadata": {},
   "outputs": [
    {
     "data": {
      "text/html": [
       "<div>\n",
       "<style scoped>\n",
       "    .dataframe tbody tr th:only-of-type {\n",
       "        vertical-align: middle;\n",
       "    }\n",
       "\n",
       "    .dataframe tbody tr th {\n",
       "        vertical-align: top;\n",
       "    }\n",
       "\n",
       "    .dataframe thead th {\n",
       "        text-align: right;\n",
       "    }\n",
       "</style>\n",
       "<table border=\"1\" class=\"dataframe\">\n",
       "  <thead>\n",
       "    <tr style=\"text-align: right;\">\n",
       "      <th></th>\n",
       "      <th>Area</th>\n",
       "      <th>Sensing Range</th>\n",
       "      <th>Transmission Range</th>\n",
       "      <th>Number of Sensor nodes</th>\n",
       "      <th>Number of Barriers</th>\n",
       "    </tr>\n",
       "  </thead>\n",
       "  <tbody>\n",
       "    <tr>\n",
       "      <th>0</th>\n",
       "      <td>5000</td>\n",
       "      <td>15</td>\n",
       "      <td>30</td>\n",
       "      <td>100</td>\n",
       "      <td>30</td>\n",
       "    </tr>\n",
       "    <tr>\n",
       "      <th>1</th>\n",
       "      <td>5000</td>\n",
       "      <td>16</td>\n",
       "      <td>32</td>\n",
       "      <td>112</td>\n",
       "      <td>35</td>\n",
       "    </tr>\n",
       "    <tr>\n",
       "      <th>2</th>\n",
       "      <td>5000</td>\n",
       "      <td>17</td>\n",
       "      <td>34</td>\n",
       "      <td>124</td>\n",
       "      <td>42</td>\n",
       "    </tr>\n",
       "    <tr>\n",
       "      <th>3</th>\n",
       "      <td>5000</td>\n",
       "      <td>18</td>\n",
       "      <td>36</td>\n",
       "      <td>136</td>\n",
       "      <td>48</td>\n",
       "    </tr>\n",
       "    <tr>\n",
       "      <th>4</th>\n",
       "      <td>5000</td>\n",
       "      <td>19</td>\n",
       "      <td>38</td>\n",
       "      <td>148</td>\n",
       "      <td>56</td>\n",
       "    </tr>\n",
       "    <tr>\n",
       "      <th>...</th>\n",
       "      <td>...</td>\n",
       "      <td>...</td>\n",
       "      <td>...</td>\n",
       "      <td>...</td>\n",
       "      <td>...</td>\n",
       "    </tr>\n",
       "    <tr>\n",
       "      <th>177</th>\n",
       "      <td>50000</td>\n",
       "      <td>36</td>\n",
       "      <td>72</td>\n",
       "      <td>352</td>\n",
       "      <td>101</td>\n",
       "    </tr>\n",
       "    <tr>\n",
       "      <th>178</th>\n",
       "      <td>50000</td>\n",
       "      <td>37</td>\n",
       "      <td>74</td>\n",
       "      <td>364</td>\n",
       "      <td>107</td>\n",
       "    </tr>\n",
       "    <tr>\n",
       "      <th>179</th>\n",
       "      <td>50000</td>\n",
       "      <td>38</td>\n",
       "      <td>76</td>\n",
       "      <td>376</td>\n",
       "      <td>114</td>\n",
       "    </tr>\n",
       "    <tr>\n",
       "      <th>180</th>\n",
       "      <td>50000</td>\n",
       "      <td>39</td>\n",
       "      <td>78</td>\n",
       "      <td>388</td>\n",
       "      <td>121</td>\n",
       "    </tr>\n",
       "    <tr>\n",
       "      <th>181</th>\n",
       "      <td>50000</td>\n",
       "      <td>40</td>\n",
       "      <td>80</td>\n",
       "      <td>400</td>\n",
       "      <td>128</td>\n",
       "    </tr>\n",
       "  </tbody>\n",
       "</table>\n",
       "<p>182 rows × 5 columns</p>\n",
       "</div>"
      ],
      "text/plain": [
       "      Area  Sensing Range  Transmission Range  Number of Sensor nodes  \\\n",
       "0     5000             15                  30                     100   \n",
       "1     5000             16                  32                     112   \n",
       "2     5000             17                  34                     124   \n",
       "3     5000             18                  36                     136   \n",
       "4     5000             19                  38                     148   \n",
       "..     ...            ...                 ...                     ...   \n",
       "177  50000             36                  72                     352   \n",
       "178  50000             37                  74                     364   \n",
       "179  50000             38                  76                     376   \n",
       "180  50000             39                  78                     388   \n",
       "181  50000             40                  80                     400   \n",
       "\n",
       "     Number of Barriers  \n",
       "0                    30  \n",
       "1                    35  \n",
       "2                    42  \n",
       "3                    48  \n",
       "4                    56  \n",
       "..                  ...  \n",
       "177                 101  \n",
       "178                 107  \n",
       "179                 114  \n",
       "180                 121  \n",
       "181                 128  \n",
       "\n",
       "[182 rows x 5 columns]"
      ]
     },
     "execution_count": 2,
     "metadata": {},
     "output_type": "execute_result"
    }
   ],
   "source": [
    "df = pd.read_csv(\"data.csv\")\n",
    "df"
   ]
  },
  {
   "cell_type": "code",
   "execution_count": 3,
   "id": "085bd90b",
   "metadata": {},
   "outputs": [
    {
     "data": {
      "text/html": [
       "<div>\n",
       "<style scoped>\n",
       "    .dataframe tbody tr th:only-of-type {\n",
       "        vertical-align: middle;\n",
       "    }\n",
       "\n",
       "    .dataframe tbody tr th {\n",
       "        vertical-align: top;\n",
       "    }\n",
       "\n",
       "    .dataframe thead th {\n",
       "        text-align: right;\n",
       "    }\n",
       "</style>\n",
       "<table border=\"1\" class=\"dataframe\">\n",
       "  <thead>\n",
       "    <tr style=\"text-align: right;\">\n",
       "      <th></th>\n",
       "      <th>Area</th>\n",
       "      <th>Sensing Range</th>\n",
       "      <th>Transmission Range</th>\n",
       "      <th>Number of Sensor nodes</th>\n",
       "      <th>Number of Barriers</th>\n",
       "    </tr>\n",
       "  </thead>\n",
       "  <tbody>\n",
       "    <tr>\n",
       "      <th>0</th>\n",
       "      <td>5000</td>\n",
       "      <td>15</td>\n",
       "      <td>30</td>\n",
       "      <td>100</td>\n",
       "      <td>30</td>\n",
       "    </tr>\n",
       "    <tr>\n",
       "      <th>1</th>\n",
       "      <td>5000</td>\n",
       "      <td>16</td>\n",
       "      <td>32</td>\n",
       "      <td>112</td>\n",
       "      <td>35</td>\n",
       "    </tr>\n",
       "    <tr>\n",
       "      <th>2</th>\n",
       "      <td>5000</td>\n",
       "      <td>17</td>\n",
       "      <td>34</td>\n",
       "      <td>124</td>\n",
       "      <td>42</td>\n",
       "    </tr>\n",
       "    <tr>\n",
       "      <th>3</th>\n",
       "      <td>5000</td>\n",
       "      <td>18</td>\n",
       "      <td>36</td>\n",
       "      <td>136</td>\n",
       "      <td>48</td>\n",
       "    </tr>\n",
       "    <tr>\n",
       "      <th>4</th>\n",
       "      <td>5000</td>\n",
       "      <td>19</td>\n",
       "      <td>38</td>\n",
       "      <td>148</td>\n",
       "      <td>56</td>\n",
       "    </tr>\n",
       "  </tbody>\n",
       "</table>\n",
       "</div>"
      ],
      "text/plain": [
       "   Area  Sensing Range  Transmission Range  Number of Sensor nodes  \\\n",
       "0  5000             15                  30                     100   \n",
       "1  5000             16                  32                     112   \n",
       "2  5000             17                  34                     124   \n",
       "3  5000             18                  36                     136   \n",
       "4  5000             19                  38                     148   \n",
       "\n",
       "   Number of Barriers  \n",
       "0                  30  \n",
       "1                  35  \n",
       "2                  42  \n",
       "3                  48  \n",
       "4                  56  "
      ]
     },
     "execution_count": 3,
     "metadata": {},
     "output_type": "execute_result"
    }
   ],
   "source": [
    "df.head()"
   ]
  },
  {
   "cell_type": "code",
   "execution_count": 4,
   "id": "ae040c59",
   "metadata": {
    "scrolled": true
   },
   "outputs": [
    {
     "data": {
      "text/html": [
       "<div>\n",
       "<style scoped>\n",
       "    .dataframe tbody tr th:only-of-type {\n",
       "        vertical-align: middle;\n",
       "    }\n",
       "\n",
       "    .dataframe tbody tr th {\n",
       "        vertical-align: top;\n",
       "    }\n",
       "\n",
       "    .dataframe thead th {\n",
       "        text-align: right;\n",
       "    }\n",
       "</style>\n",
       "<table border=\"1\" class=\"dataframe\">\n",
       "  <thead>\n",
       "    <tr style=\"text-align: right;\">\n",
       "      <th></th>\n",
       "      <th>count</th>\n",
       "      <th>mean</th>\n",
       "      <th>std</th>\n",
       "      <th>min</th>\n",
       "      <th>25%</th>\n",
       "      <th>50%</th>\n",
       "      <th>75%</th>\n",
       "      <th>max</th>\n",
       "    </tr>\n",
       "  </thead>\n",
       "  <tbody>\n",
       "    <tr>\n",
       "      <th>Area</th>\n",
       "      <td>182.0</td>\n",
       "      <td>24375.000000</td>\n",
       "      <td>15197.252769</td>\n",
       "      <td>5000.0</td>\n",
       "      <td>9375.0</td>\n",
       "      <td>21875.0</td>\n",
       "      <td>39375.00</td>\n",
       "      <td>50000.0</td>\n",
       "    </tr>\n",
       "    <tr>\n",
       "      <th>Sensing Range</th>\n",
       "      <td>182.0</td>\n",
       "      <td>27.500000</td>\n",
       "      <td>7.520690</td>\n",
       "      <td>15.0</td>\n",
       "      <td>21.0</td>\n",
       "      <td>27.5</td>\n",
       "      <td>34.00</td>\n",
       "      <td>40.0</td>\n",
       "    </tr>\n",
       "    <tr>\n",
       "      <th>Transmission Range</th>\n",
       "      <td>182.0</td>\n",
       "      <td>55.000000</td>\n",
       "      <td>15.041379</td>\n",
       "      <td>30.0</td>\n",
       "      <td>42.0</td>\n",
       "      <td>55.0</td>\n",
       "      <td>68.00</td>\n",
       "      <td>80.0</td>\n",
       "    </tr>\n",
       "    <tr>\n",
       "      <th>Number of Sensor nodes</th>\n",
       "      <td>182.0</td>\n",
       "      <td>250.000000</td>\n",
       "      <td>90.248276</td>\n",
       "      <td>100.0</td>\n",
       "      <td>172.0</td>\n",
       "      <td>250.0</td>\n",
       "      <td>328.00</td>\n",
       "      <td>400.0</td>\n",
       "    </tr>\n",
       "    <tr>\n",
       "      <th>Number of Barriers</th>\n",
       "      <td>182.0</td>\n",
       "      <td>94.071429</td>\n",
       "      <td>65.171006</td>\n",
       "      <td>12.0</td>\n",
       "      <td>42.0</td>\n",
       "      <td>80.0</td>\n",
       "      <td>128.75</td>\n",
       "      <td>320.0</td>\n",
       "    </tr>\n",
       "  </tbody>\n",
       "</table>\n",
       "</div>"
      ],
      "text/plain": [
       "                        count          mean           std     min     25%  \\\n",
       "Area                    182.0  24375.000000  15197.252769  5000.0  9375.0   \n",
       "Sensing Range           182.0     27.500000      7.520690    15.0    21.0   \n",
       "Transmission Range      182.0     55.000000     15.041379    30.0    42.0   \n",
       "Number of Sensor nodes  182.0    250.000000     90.248276   100.0   172.0   \n",
       "Number of Barriers      182.0     94.071429     65.171006    12.0    42.0   \n",
       "\n",
       "                            50%       75%      max  \n",
       "Area                    21875.0  39375.00  50000.0  \n",
       "Sensing Range              27.5     34.00     40.0  \n",
       "Transmission Range         55.0     68.00     80.0  \n",
       "Number of Sensor nodes    250.0    328.00    400.0  \n",
       "Number of Barriers         80.0    128.75    320.0  "
      ]
     },
     "execution_count": 4,
     "metadata": {},
     "output_type": "execute_result"
    }
   ],
   "source": [
    "df.describe().T"
   ]
  },
  {
   "cell_type": "code",
   "execution_count": 5,
   "id": "22d0059d",
   "metadata": {},
   "outputs": [
    {
     "name": "stdout",
     "output_type": "stream",
     "text": [
      "<class 'pandas.core.frame.DataFrame'>\n",
      "RangeIndex: 182 entries, 0 to 181\n",
      "Data columns (total 5 columns):\n",
      " #   Column                  Non-Null Count  Dtype\n",
      "---  ------                  --------------  -----\n",
      " 0   Area                    182 non-null    int64\n",
      " 1   Sensing Range           182 non-null    int64\n",
      " 2   Transmission Range      182 non-null    int64\n",
      " 3   Number of Sensor nodes  182 non-null    int64\n",
      " 4   Number of Barriers      182 non-null    int64\n",
      "dtypes: int64(5)\n",
      "memory usage: 7.2 KB\n"
     ]
    }
   ],
   "source": [
    "df.info()"
   ]
  },
  {
   "cell_type": "code",
   "execution_count": 6,
   "id": "e97b4b7a",
   "metadata": {},
   "outputs": [
    {
     "data": {
      "text/html": [
       "<div>\n",
       "<style scoped>\n",
       "    .dataframe tbody tr th:only-of-type {\n",
       "        vertical-align: middle;\n",
       "    }\n",
       "\n",
       "    .dataframe tbody tr th {\n",
       "        vertical-align: top;\n",
       "    }\n",
       "\n",
       "    .dataframe thead th {\n",
       "        text-align: right;\n",
       "    }\n",
       "</style>\n",
       "<table border=\"1\" class=\"dataframe\">\n",
       "  <thead>\n",
       "    <tr style=\"text-align: right;\">\n",
       "      <th></th>\n",
       "      <th>Area</th>\n",
       "      <th>Sensing Range</th>\n",
       "      <th>Transmission Range</th>\n",
       "      <th>Number of Sensor nodes</th>\n",
       "      <th>Number of Barriers</th>\n",
       "    </tr>\n",
       "  </thead>\n",
       "  <tbody>\n",
       "    <tr>\n",
       "      <th>count</th>\n",
       "      <td>182.000000</td>\n",
       "      <td>182.00000</td>\n",
       "      <td>182.000000</td>\n",
       "      <td>182.000000</td>\n",
       "      <td>182.000000</td>\n",
       "    </tr>\n",
       "    <tr>\n",
       "      <th>mean</th>\n",
       "      <td>24375.000000</td>\n",
       "      <td>27.50000</td>\n",
       "      <td>55.000000</td>\n",
       "      <td>250.000000</td>\n",
       "      <td>94.071429</td>\n",
       "    </tr>\n",
       "    <tr>\n",
       "      <th>std</th>\n",
       "      <td>15197.252769</td>\n",
       "      <td>7.52069</td>\n",
       "      <td>15.041379</td>\n",
       "      <td>90.248276</td>\n",
       "      <td>65.171006</td>\n",
       "    </tr>\n",
       "    <tr>\n",
       "      <th>min</th>\n",
       "      <td>5000.000000</td>\n",
       "      <td>15.00000</td>\n",
       "      <td>30.000000</td>\n",
       "      <td>100.000000</td>\n",
       "      <td>12.000000</td>\n",
       "    </tr>\n",
       "    <tr>\n",
       "      <th>25%</th>\n",
       "      <td>9375.000000</td>\n",
       "      <td>21.00000</td>\n",
       "      <td>42.000000</td>\n",
       "      <td>172.000000</td>\n",
       "      <td>42.000000</td>\n",
       "    </tr>\n",
       "    <tr>\n",
       "      <th>50%</th>\n",
       "      <td>21875.000000</td>\n",
       "      <td>27.50000</td>\n",
       "      <td>55.000000</td>\n",
       "      <td>250.000000</td>\n",
       "      <td>80.000000</td>\n",
       "    </tr>\n",
       "    <tr>\n",
       "      <th>75%</th>\n",
       "      <td>39375.000000</td>\n",
       "      <td>34.00000</td>\n",
       "      <td>68.000000</td>\n",
       "      <td>328.000000</td>\n",
       "      <td>128.750000</td>\n",
       "    </tr>\n",
       "    <tr>\n",
       "      <th>max</th>\n",
       "      <td>50000.000000</td>\n",
       "      <td>40.00000</td>\n",
       "      <td>80.000000</td>\n",
       "      <td>400.000000</td>\n",
       "      <td>320.000000</td>\n",
       "    </tr>\n",
       "  </tbody>\n",
       "</table>\n",
       "</div>"
      ],
      "text/plain": [
       "               Area  Sensing Range  Transmission Range  \\\n",
       "count    182.000000      182.00000          182.000000   \n",
       "mean   24375.000000       27.50000           55.000000   \n",
       "std    15197.252769        7.52069           15.041379   \n",
       "min     5000.000000       15.00000           30.000000   \n",
       "25%     9375.000000       21.00000           42.000000   \n",
       "50%    21875.000000       27.50000           55.000000   \n",
       "75%    39375.000000       34.00000           68.000000   \n",
       "max    50000.000000       40.00000           80.000000   \n",
       "\n",
       "       Number of Sensor nodes  Number of Barriers  \n",
       "count              182.000000          182.000000  \n",
       "mean               250.000000           94.071429  \n",
       "std                 90.248276           65.171006  \n",
       "min                100.000000           12.000000  \n",
       "25%                172.000000           42.000000  \n",
       "50%                250.000000           80.000000  \n",
       "75%                328.000000          128.750000  \n",
       "max                400.000000          320.000000  "
      ]
     },
     "execution_count": 6,
     "metadata": {},
     "output_type": "execute_result"
    }
   ],
   "source": [
    "df.describe()"
   ]
  },
  {
   "cell_type": "markdown",
   "id": "75567870",
   "metadata": {},
   "source": [
    "# Data Analysis or EDA"
   ]
  },
  {
   "cell_type": "markdown",
   "id": "ec607710",
   "metadata": {},
   "source": [
    "Histograms will show the distribution of each numeric feature***"
   ]
  },
  {
   "cell_type": "code",
   "execution_count": 7,
   "id": "61797322",
   "metadata": {},
   "outputs": [
    {
     "data": {
      "image/png": "[encoded data removed]",
      "text/plain": [
       "<Figure size 800x600 with 6 Axes>"
      ]
     },
     "metadata": {},
     "output_type": "display_data"
    }
   ],
   "source": [
    "df.hist(figsize=(8, 6))\n",
    "plt.tight_layout()\n",
    "plt.show()"
   ]
  },
  {
   "cell_type": "markdown",
   "id": "4b1c8af6",
   "metadata": {},
   "source": [
    "Box plots can highlight outliers and the spread of the data***"
   ]
  },
  {
   "cell_type": "code",
   "execution_count": 8,
   "id": "c16f6891",
   "metadata": {},
   "outputs": [
    {
     "data": {
      "image/png": "[encoded data removed]",
      "text/plain": [
       "<Figure size 800x600 with 6 Axes>"
      ]
     },
     "metadata": {},
     "output_type": "display_data"
    }
   ],
   "source": [
    "df.plot(kind='box', subplots=True, layout=(2,3), figsize=(8, 6))\n",
    "plt.tight_layout()\n",
    "plt.show()"
   ]
  },
  {
   "cell_type": "markdown",
   "id": "e0525e68",
   "metadata": {},
   "source": [
    "Scatter plots can reveal relationships between two variables***"
   ]
  },
  {
   "cell_type": "code",
   "execution_count": 9,
   "id": "e2ab1f51",
   "metadata": {},
   "outputs": [
    {
     "data": {
      "image/png": "[encoded data removed]",
      "text/plain": [
       "<Figure size 800x600 with 25 Axes>"
      ]
     },
     "metadata": {},
     "output_type": "display_data"
    }
   ],
   "source": [
    "pd.plotting.scatter_matrix(df, figsize=(8, 6))\n",
    "plt.tight_layout()\n",
    "plt.show()"
   ]
  },
  {
   "cell_type": "code",
   "execution_count": 10,
   "id": "d9690386",
   "metadata": {},
   "outputs": [
    {
     "data": {
      "image/png": "[encoded data removed]",
      "text/plain": [
       "<Figure size 640x480 with 1 Axes>"
      ]
     },
     "metadata": {},
     "output_type": "display_data"
    }
   ],
   "source": [
    "plt.scatter(df['Area'], df['Number of Sensor nodes'])\n",
    "plt.xlabel('Area')\n",
    "plt.ylabel('Number of Sensor nodes')\n",
    "plt.title('Area vs. Number of Sensor nodes')\n",
    "plt.show()"
   ]
  },
  {
   "cell_type": "markdown",
   "id": "6d06c589",
   "metadata": {},
   "source": [
    "Correlation Analysis***"
   ]
  },
  {
   "cell_type": "code",
   "execution_count": 11,
   "id": "707d26e0",
   "metadata": {},
   "outputs": [
    {
     "name": "stdout",
     "output_type": "stream",
     "text": [
      "                                Area  Sensing Range  Transmission Range  \\\n",
      "Area                    1.000000e+00   3.095077e-16        3.095077e-16   \n",
      "Sensing Range           3.095077e-16   1.000000e+00        1.000000e+00   \n",
      "Transmission Range      3.095077e-16   1.000000e+00        1.000000e+00   \n",
      "Number of Sensor nodes -1.162999e-16   1.000000e+00        1.000000e+00   \n",
      "Number of Barriers     -4.234383e-01   8.383655e-01        8.383655e-01   \n",
      "\n",
      "                        Number of Sensor nodes  Number of Barriers  \n",
      "Area                             -1.162999e-16           -0.423438  \n",
      "Sensing Range                     1.000000e+00            0.838365  \n",
      "Transmission Range                1.000000e+00            0.838365  \n",
      "Number of Sensor nodes            1.000000e+00            0.838365  \n",
      "Number of Barriers                8.383655e-01            1.000000  \n"
     ]
    },
    {
     "data": {
      "image/png": "[encoded data removed]",
      "text/plain": [
       "<Figure size 600x400 with 2 Axes>"
      ]
     },
     "metadata": {},
     "output_type": "display_data"
    }
   ],
   "source": [
    "correlation_matrix = df.corr()\n",
    "print(correlation_matrix)\n",
    "\n",
    "plt.figure(figsize=(6, 4))\n",
    "sns.heatmap(correlation_matrix, annot=True, cmap='coolwarm')\n",
    "plt.title('Correlation Matrix Heatmap')\n",
    "plt.show()"
   ]
  },
  {
   "cell_type": "markdown",
   "id": "ff5cfe3b",
   "metadata": {},
   "source": [
    "Identify Outliers"
   ]
  },
  {
   "cell_type": "code",
   "execution_count": 12,
   "id": "328ae735",
   "metadata": {},
   "outputs": [],
   "source": [
    "z_scores = stats.zscore(df)\n",
    "abs_z_scores = abs(z_scores)\n",
    "filtered_entries = (abs_z_scores < 3).all(axis=1)\n",
    "df_no_outliers = df[filtered_entries]\n",
    "\n",
    "Q1 = df.quantile(0.25)\n",
    "Q3 = df.quantile(0.75)\n",
    "IQR = Q3 - Q1\n",
    "df_no_outliers = df[~((df < (Q1 - 1.5 * IQR)) |(df > (Q3 + 1.5 * IQR))).any(axis=1)]"
   ]
  },
  {
   "cell_type": "markdown",
   "id": "9188e601",
   "metadata": {},
   "source": [
    "Feature Engineering"
   ]
  },
  {
   "cell_type": "code",
   "execution_count": 13,
   "id": "c1fb955a",
   "metadata": {},
   "outputs": [
    {
     "data": {
      "text/html": [
       "<div>\n",
       "<style scoped>\n",
       "    .dataframe tbody tr th:only-of-type {\n",
       "        vertical-align: middle;\n",
       "    }\n",
       "\n",
       "    .dataframe tbody tr th {\n",
       "        vertical-align: top;\n",
       "    }\n",
       "\n",
       "    .dataframe thead th {\n",
       "        text-align: right;\n",
       "    }\n",
       "</style>\n",
       "<table border=\"1\" class=\"dataframe\">\n",
       "  <thead>\n",
       "    <tr style=\"text-align: right;\">\n",
       "      <th></th>\n",
       "      <th>Area</th>\n",
       "      <th>Sensing Range</th>\n",
       "      <th>Transmission Range</th>\n",
       "      <th>Number of Sensor nodes</th>\n",
       "      <th>Number of Barriers</th>\n",
       "      <th>Node Density</th>\n",
       "    </tr>\n",
       "  </thead>\n",
       "  <tbody>\n",
       "    <tr>\n",
       "      <th>0</th>\n",
       "      <td>5000</td>\n",
       "      <td>15</td>\n",
       "      <td>30</td>\n",
       "      <td>100</td>\n",
       "      <td>30</td>\n",
       "      <td>0.02000</td>\n",
       "    </tr>\n",
       "    <tr>\n",
       "      <th>1</th>\n",
       "      <td>5000</td>\n",
       "      <td>16</td>\n",
       "      <td>32</td>\n",
       "      <td>112</td>\n",
       "      <td>35</td>\n",
       "      <td>0.02240</td>\n",
       "    </tr>\n",
       "    <tr>\n",
       "      <th>2</th>\n",
       "      <td>5000</td>\n",
       "      <td>17</td>\n",
       "      <td>34</td>\n",
       "      <td>124</td>\n",
       "      <td>42</td>\n",
       "      <td>0.02480</td>\n",
       "    </tr>\n",
       "    <tr>\n",
       "      <th>3</th>\n",
       "      <td>5000</td>\n",
       "      <td>18</td>\n",
       "      <td>36</td>\n",
       "      <td>136</td>\n",
       "      <td>48</td>\n",
       "      <td>0.02720</td>\n",
       "    </tr>\n",
       "    <tr>\n",
       "      <th>4</th>\n",
       "      <td>5000</td>\n",
       "      <td>19</td>\n",
       "      <td>38</td>\n",
       "      <td>148</td>\n",
       "      <td>56</td>\n",
       "      <td>0.02960</td>\n",
       "    </tr>\n",
       "    <tr>\n",
       "      <th>...</th>\n",
       "      <td>...</td>\n",
       "      <td>...</td>\n",
       "      <td>...</td>\n",
       "      <td>...</td>\n",
       "      <td>...</td>\n",
       "      <td>...</td>\n",
       "    </tr>\n",
       "    <tr>\n",
       "      <th>177</th>\n",
       "      <td>50000</td>\n",
       "      <td>36</td>\n",
       "      <td>72</td>\n",
       "      <td>352</td>\n",
       "      <td>101</td>\n",
       "      <td>0.00704</td>\n",
       "    </tr>\n",
       "    <tr>\n",
       "      <th>178</th>\n",
       "      <td>50000</td>\n",
       "      <td>37</td>\n",
       "      <td>74</td>\n",
       "      <td>364</td>\n",
       "      <td>107</td>\n",
       "      <td>0.00728</td>\n",
       "    </tr>\n",
       "    <tr>\n",
       "      <th>179</th>\n",
       "      <td>50000</td>\n",
       "      <td>38</td>\n",
       "      <td>76</td>\n",
       "      <td>376</td>\n",
       "      <td>114</td>\n",
       "      <td>0.00752</td>\n",
       "    </tr>\n",
       "    <tr>\n",
       "      <th>180</th>\n",
       "      <td>50000</td>\n",
       "      <td>39</td>\n",
       "      <td>78</td>\n",
       "      <td>388</td>\n",
       "      <td>121</td>\n",
       "      <td>0.00776</td>\n",
       "    </tr>\n",
       "    <tr>\n",
       "      <th>181</th>\n",
       "      <td>50000</td>\n",
       "      <td>40</td>\n",
       "      <td>80</td>\n",
       "      <td>400</td>\n",
       "      <td>128</td>\n",
       "      <td>0.00800</td>\n",
       "    </tr>\n",
       "  </tbody>\n",
       "</table>\n",
       "<p>182 rows × 6 columns</p>\n",
       "</div>"
      ],
      "text/plain": [
       "      Area  Sensing Range  Transmission Range  Number of Sensor nodes  \\\n",
       "0     5000             15                  30                     100   \n",
       "1     5000             16                  32                     112   \n",
       "2     5000             17                  34                     124   \n",
       "3     5000             18                  36                     136   \n",
       "4     5000             19                  38                     148   \n",
       "..     ...            ...                 ...                     ...   \n",
       "177  50000             36                  72                     352   \n",
       "178  50000             37                  74                     364   \n",
       "179  50000             38                  76                     376   \n",
       "180  50000             39                  78                     388   \n",
       "181  50000             40                  80                     400   \n",
       "\n",
       "     Number of Barriers  Node Density  \n",
       "0                    30       0.02000  \n",
       "1                    35       0.02240  \n",
       "2                    42       0.02480  \n",
       "3                    48       0.02720  \n",
       "4                    56       0.02960  \n",
       "..                  ...           ...  \n",
       "177                 101       0.00704  \n",
       "178                 107       0.00728  \n",
       "179                 114       0.00752  \n",
       "180                 121       0.00776  \n",
       "181                 128       0.00800  \n",
       "\n",
       "[182 rows x 6 columns]"
      ]
     },
     "execution_count": 13,
     "metadata": {},
     "output_type": "execute_result"
    }
   ],
   "source": [
    "df['Node Density'] = df['Number of Sensor nodes'] / df['Area']\n",
    "df"
   ]
  },
  {
   "cell_type": "markdown",
   "id": "3641361c",
   "metadata": {},
   "source": [
    "Clustering "
   ]
  },
  {
   "cell_type": "code",
   "execution_count": 14,
   "id": "d4ce562e",
   "metadata": {},
   "outputs": [
    {
     "data": {
      "image/png": "[encoded data removed]",
      "text/plain": [
       "<Figure size 640x480 with 1 Axes>"
      ]
     },
     "metadata": {},
     "output_type": "display_data"
    }
   ],
   "source": [
    "kmeans = KMeans(n_clusters=3)\n",
    "df['Cluster'] = kmeans.fit_predict(df)\n",
    "\n",
    "plt.scatter(df['Area'], df['Number of Sensor nodes'], c=df['Cluster'], cmap='viridis')\n",
    "plt.xlabel('Area')\n",
    "plt.ylabel('Number of Sensor nodes')\n",
    "plt.title('Clustering of Areas')\n",
    "plt.show()"
   ]
  },
  {
   "cell_type": "markdown",
   "id": "ecb7c6b2",
   "metadata": {},
   "source": [
    "Regression Analysis"
   ]
  },
  {
   "cell_type": "code",
   "execution_count": 15,
   "id": "1041b632",
   "metadata": {},
   "outputs": [
    {
     "name": "stdout",
     "output_type": "stream",
     "text": [
      "Model R^2 score: 1.0\n"
     ]
    }
   ],
   "source": [
    "X = df[['Area', 'Sensing Range', 'Transmission Range', 'Number of Barriers']]\n",
    "y = df['Number of Sensor nodes']\n",
    "\n",
    "X_train, X_test, y_train, y_test = train_test_split(X, y, test_size=0.2, random_state=42)\n",
    "\n",
    "model = LinearRegression()\n",
    "model.fit(X_train, y_train)\n",
    "\n",
    "score = model.score(X_test, y_test)\n",
    "print(f'Model R^2 score: {score}')\n"
   ]
  },
  {
   "cell_type": "markdown",
   "id": "af01b5aa",
   "metadata": {},
   "source": [
    "# Distribution of Continuous Variables"
   ]
  },
  {
   "cell_type": "code",
   "execution_count": 16,
   "id": "6b0db99b",
   "metadata": {},
   "outputs": [
    {
     "data": {
      "text/plain": [
       "Area                       int64\n",
       "Sensing Range              int64\n",
       "Transmission Range         int64\n",
       "Number of Sensor nodes     int64\n",
       "Number of Barriers         int64\n",
       "Node Density              object\n",
       "Cluster                   object\n",
       "dtype: object"
      ]
     },
     "execution_count": 16,
     "metadata": {},
     "output_type": "execute_result"
    }
   ],
   "source": [
    "# Define the continuous features\n",
    "continuous_features = ['Area','Sensing Range','Transmission Range','Number of Sensor nodes','Number of Barriers']\n",
    "\n",
    "# Identify the features to be converted to object data type\n",
    "features_to_convert = [feature for feature in df.columns if feature not in continuous_features]\n",
    "\n",
    "# Convert the identified features to object data type\n",
    "df[features_to_convert] = df[features_to_convert].astype('object')\n",
    "\n",
    "df.dtypes"
   ]
  },
  {
   "cell_type": "code",
   "execution_count": 17,
   "id": "f8bdccbd",
   "metadata": {},
   "outputs": [
    {
     "data": {
      "image/png": "[encoded data removed]",
      "text/plain": [
       "<Figure size 800x600 with 6 Axes>"
      ]
     },
     "metadata": {},
     "output_type": "display_data"
    }
   ],
   "source": [
    "# Filter out continuous features for the univariate analysis\n",
    "df_continuous = df[continuous_features]\n",
    "\n",
    "# Set up the subplot\n",
    "fig, ax = plt.subplots(nrows=2, ncols=3, figsize=(8, 6))\n",
    "\n",
    "# Loop to plot histograms for each continuous feature\n",
    "for i, col in enumerate(df_continuous.columns):\n",
    "    x = i // 3\n",
    "    y = i % 3\n",
    "    values, bin_edges = np.histogram(df_continuous[col], \n",
    "                                     range=(np.floor(df_continuous[col].min()), np.ceil(df_continuous[col].max())))\n",
    "    \n",
    "    graph = sns.histplot(data=df_continuous, x=col, bins=bin_edges, kde=True, ax=ax[x, y],\n",
    "                         edgecolor='none', color='green', alpha=0.6, line_kws={'lw': 3})\n",
    "    ax[x, y].set_xlabel(col, fontsize=10)\n",
    "    ax[x, y].set_ylabel('Count', fontsize=8)\n",
    "    ax[x, y].set_xticks(np.round(bin_edges, 1))\n",
    "    ax[x, y].set_xticklabels(ax[x, y].get_xticks(), rotation=45)\n",
    "    ax[x, y].grid(color='lightgrey')\n",
    "    \n",
    "    for j, p in enumerate(graph.patches):\n",
    "        ax[x, y].annotate('{}'.format(p.get_height()), (p.get_x() + p.get_width() / 2, p.get_height() + 1),\n",
    "                          ha='center', fontsize=10, fontweight=\"bold\")\n",
    "    \n",
    "    textstr = '\\n'.join((\n",
    "        r'$\\mu=%.2f$' % df_continuous[col].mean(),\n",
    "        r'$\\sigma=%.2f$' % df_continuous[col].std()\n",
    "    ))\n",
    "    ax[x, y].text(0.75, 0.9, textstr, transform=ax[x, y].transAxes, fontsize=12, verticalalignment='top',\n",
    "                  color='yellow', bbox=dict(boxstyle='round', facecolor='#ff826e', edgecolor='white', pad=0.5))\n",
    "\n",
    "ax[1,2].axis('off')\n",
    "plt.suptitle('Distribution of Continuous Variables', fontsize=10)\n",
    "plt.tight_layout()\n",
    "plt.subplots_adjust(top=0.92)\n",
    "plt.show()"
   ]
  },
  {
   "cell_type": "code",
   "execution_count": 18,
   "id": "c86ab3be",
   "metadata": {},
   "outputs": [],
   "source": [
    "# Define the features (X) and the output labels (y)\n",
    "X = df[['Area','Sensing Range', 'Transmission Range', 'Number of Barriers']]\n",
    "y = df['Number of Sensor nodes']"
   ]
  },
  {
   "cell_type": "code",
   "execution_count": 19,
   "id": "d896f181",
   "metadata": {},
   "outputs": [
    {
     "data": {
      "text/html": [
       "<div>\n",
       "<style scoped>\n",
       "    .dataframe tbody tr th:only-of-type {\n",
       "        vertical-align: middle;\n",
       "    }\n",
       "\n",
       "    .dataframe tbody tr th {\n",
       "        vertical-align: top;\n",
       "    }\n",
       "\n",
       "    .dataframe thead th {\n",
       "        text-align: right;\n",
       "    }\n",
       "</style>\n",
       "<table border=\"1\" class=\"dataframe\">\n",
       "  <thead>\n",
       "    <tr style=\"text-align: right;\">\n",
       "      <th></th>\n",
       "      <th>Area</th>\n",
       "      <th>Sensing Range</th>\n",
       "      <th>Transmission Range</th>\n",
       "      <th>Number of Barriers</th>\n",
       "    </tr>\n",
       "  </thead>\n",
       "  <tbody>\n",
       "    <tr>\n",
       "      <th>0</th>\n",
       "      <td>5000</td>\n",
       "      <td>15</td>\n",
       "      <td>30</td>\n",
       "      <td>30</td>\n",
       "    </tr>\n",
       "    <tr>\n",
       "      <th>1</th>\n",
       "      <td>5000</td>\n",
       "      <td>16</td>\n",
       "      <td>32</td>\n",
       "      <td>35</td>\n",
       "    </tr>\n",
       "    <tr>\n",
       "      <th>2</th>\n",
       "      <td>5000</td>\n",
       "      <td>17</td>\n",
       "      <td>34</td>\n",
       "      <td>42</td>\n",
       "    </tr>\n",
       "    <tr>\n",
       "      <th>3</th>\n",
       "      <td>5000</td>\n",
       "      <td>18</td>\n",
       "      <td>36</td>\n",
       "      <td>48</td>\n",
       "    </tr>\n",
       "    <tr>\n",
       "      <th>4</th>\n",
       "      <td>5000</td>\n",
       "      <td>19</td>\n",
       "      <td>38</td>\n",
       "      <td>56</td>\n",
       "    </tr>\n",
       "    <tr>\n",
       "      <th>...</th>\n",
       "      <td>...</td>\n",
       "      <td>...</td>\n",
       "      <td>...</td>\n",
       "      <td>...</td>\n",
       "    </tr>\n",
       "    <tr>\n",
       "      <th>177</th>\n",
       "      <td>50000</td>\n",
       "      <td>36</td>\n",
       "      <td>72</td>\n",
       "      <td>101</td>\n",
       "    </tr>\n",
       "    <tr>\n",
       "      <th>178</th>\n",
       "      <td>50000</td>\n",
       "      <td>37</td>\n",
       "      <td>74</td>\n",
       "      <td>107</td>\n",
       "    </tr>\n",
       "    <tr>\n",
       "      <th>179</th>\n",
       "      <td>50000</td>\n",
       "      <td>38</td>\n",
       "      <td>76</td>\n",
       "      <td>114</td>\n",
       "    </tr>\n",
       "    <tr>\n",
       "      <th>180</th>\n",
       "      <td>50000</td>\n",
       "      <td>39</td>\n",
       "      <td>78</td>\n",
       "      <td>121</td>\n",
       "    </tr>\n",
       "    <tr>\n",
       "      <th>181</th>\n",
       "      <td>50000</td>\n",
       "      <td>40</td>\n",
       "      <td>80</td>\n",
       "      <td>128</td>\n",
       "    </tr>\n",
       "  </tbody>\n",
       "</table>\n",
       "<p>182 rows × 4 columns</p>\n",
       "</div>"
      ],
      "text/plain": [
       "      Area  Sensing Range  Transmission Range  Number of Barriers\n",
       "0     5000             15                  30                  30\n",
       "1     5000             16                  32                  35\n",
       "2     5000             17                  34                  42\n",
       "3     5000             18                  36                  48\n",
       "4     5000             19                  38                  56\n",
       "..     ...            ...                 ...                 ...\n",
       "177  50000             36                  72                 101\n",
       "178  50000             37                  74                 107\n",
       "179  50000             38                  76                 114\n",
       "180  50000             39                  78                 121\n",
       "181  50000             40                  80                 128\n",
       "\n",
       "[182 rows x 4 columns]"
      ]
     },
     "execution_count": 19,
     "metadata": {},
     "output_type": "execute_result"
    }
   ],
   "source": [
    "X"
   ]
  },
  {
   "cell_type": "code",
   "execution_count": 20,
   "id": "a487fd48",
   "metadata": {},
   "outputs": [
    {
     "data": {
      "text/plain": [
       "0      100\n",
       "1      112\n",
       "2      124\n",
       "3      136\n",
       "4      148\n",
       "      ... \n",
       "177    352\n",
       "178    364\n",
       "179    376\n",
       "180    388\n",
       "181    400\n",
       "Name: Number of Sensor nodes, Length: 182, dtype: int64"
      ]
     },
     "execution_count": 20,
     "metadata": {},
     "output_type": "execute_result"
    }
   ],
   "source": [
    "y"
   ]
  },
  {
   "cell_type": "markdown",
   "id": "2032540e-461d-4bfc-a4c0-a3c523adabb9",
   "metadata": {},
   "source": [
    "# Model Building"
   ]
  },
  {
   "cell_type": "markdown",
   "id": "bf7bfc3a",
   "metadata": {},
   "source": [
    "## 1) CNN"
   ]
  },
  {
   "cell_type": "code",
   "execution_count": 21,
   "id": "aadcdc31",
   "metadata": {},
   "outputs": [
    {
     "data": {
      "text/html": [
       "<div>\n",
       "<style scoped>\n",
       "    .dataframe tbody tr th:only-of-type {\n",
       "        vertical-align: middle;\n",
       "    }\n",
       "\n",
       "    .dataframe tbody tr th {\n",
       "        vertical-align: top;\n",
       "    }\n",
       "\n",
       "    .dataframe thead th {\n",
       "        text-align: right;\n",
       "    }\n",
       "</style>\n",
       "<table border=\"1\" class=\"dataframe\">\n",
       "  <thead>\n",
       "    <tr style=\"text-align: right;\">\n",
       "      <th></th>\n",
       "      <th>Area</th>\n",
       "      <th>Sensing Range</th>\n",
       "      <th>Transmission Range</th>\n",
       "      <th>Number of Sensor nodes</th>\n",
       "      <th>Number of Barriers</th>\n",
       "    </tr>\n",
       "  </thead>\n",
       "  <tbody>\n",
       "    <tr>\n",
       "      <th>0</th>\n",
       "      <td>5000</td>\n",
       "      <td>15</td>\n",
       "      <td>30</td>\n",
       "      <td>100</td>\n",
       "      <td>30</td>\n",
       "    </tr>\n",
       "    <tr>\n",
       "      <th>1</th>\n",
       "      <td>5000</td>\n",
       "      <td>16</td>\n",
       "      <td>32</td>\n",
       "      <td>112</td>\n",
       "      <td>35</td>\n",
       "    </tr>\n",
       "    <tr>\n",
       "      <th>2</th>\n",
       "      <td>5000</td>\n",
       "      <td>17</td>\n",
       "      <td>34</td>\n",
       "      <td>124</td>\n",
       "      <td>42</td>\n",
       "    </tr>\n",
       "    <tr>\n",
       "      <th>3</th>\n",
       "      <td>5000</td>\n",
       "      <td>18</td>\n",
       "      <td>36</td>\n",
       "      <td>136</td>\n",
       "      <td>48</td>\n",
       "    </tr>\n",
       "    <tr>\n",
       "      <th>4</th>\n",
       "      <td>5000</td>\n",
       "      <td>19</td>\n",
       "      <td>38</td>\n",
       "      <td>148</td>\n",
       "      <td>56</td>\n",
       "    </tr>\n",
       "    <tr>\n",
       "      <th>...</th>\n",
       "      <td>...</td>\n",
       "      <td>...</td>\n",
       "      <td>...</td>\n",
       "      <td>...</td>\n",
       "      <td>...</td>\n",
       "    </tr>\n",
       "    <tr>\n",
       "      <th>177</th>\n",
       "      <td>50000</td>\n",
       "      <td>36</td>\n",
       "      <td>72</td>\n",
       "      <td>352</td>\n",
       "      <td>101</td>\n",
       "    </tr>\n",
       "    <tr>\n",
       "      <th>178</th>\n",
       "      <td>50000</td>\n",
       "      <td>37</td>\n",
       "      <td>74</td>\n",
       "      <td>364</td>\n",
       "      <td>107</td>\n",
       "    </tr>\n",
       "    <tr>\n",
       "      <th>179</th>\n",
       "      <td>50000</td>\n",
       "      <td>38</td>\n",
       "      <td>76</td>\n",
       "      <td>376</td>\n",
       "      <td>114</td>\n",
       "    </tr>\n",
       "    <tr>\n",
       "      <th>180</th>\n",
       "      <td>50000</td>\n",
       "      <td>39</td>\n",
       "      <td>78</td>\n",
       "      <td>388</td>\n",
       "      <td>121</td>\n",
       "    </tr>\n",
       "    <tr>\n",
       "      <th>181</th>\n",
       "      <td>50000</td>\n",
       "      <td>40</td>\n",
       "      <td>80</td>\n",
       "      <td>400</td>\n",
       "      <td>128</td>\n",
       "    </tr>\n",
       "  </tbody>\n",
       "</table>\n",
       "<p>182 rows × 5 columns</p>\n",
       "</div>"
      ],
      "text/plain": [
       "      Area  Sensing Range  Transmission Range  Number of Sensor nodes  \\\n",
       "0     5000             15                  30                     100   \n",
       "1     5000             16                  32                     112   \n",
       "2     5000             17                  34                     124   \n",
       "3     5000             18                  36                     136   \n",
       "4     5000             19                  38                     148   \n",
       "..     ...            ...                 ...                     ...   \n",
       "177  50000             36                  72                     352   \n",
       "178  50000             37                  74                     364   \n",
       "179  50000             38                  76                     376   \n",
       "180  50000             39                  78                     388   \n",
       "181  50000             40                  80                     400   \n",
       "\n",
       "     Number of Barriers  \n",
       "0                    30  \n",
       "1                    35  \n",
       "2                    42  \n",
       "3                    48  \n",
       "4                    56  \n",
       "..                  ...  \n",
       "177                 101  \n",
       "178                 107  \n",
       "179                 114  \n",
       "180                 121  \n",
       "181                 128  \n",
       "\n",
       "[182 rows x 5 columns]"
      ]
     },
     "execution_count": 21,
     "metadata": {},
     "output_type": "execute_result"
    }
   ],
   "source": [
    "filepath = \"data.csv\"\n",
    "df = pd.read_csv(filepath)\n",
    "df"
   ]
  },
  {
   "cell_type": "code",
   "execution_count": 22,
   "id": "5bdeb232",
   "metadata": {},
   "outputs": [
    {
     "data": {
      "text/plain": [
       "Area   Sensing Range  Transmission Range  Number of Sensor nodes  Number of Barriers\n",
       "5000   15             30                  100                     30                    1\n",
       "30000  25             50                  220                     55                    1\n",
       "       27             54                  244                     65                    1\n",
       "       28             56                  256                     71                    1\n",
       "       29             58                  268                     77                    1\n",
       "                                                                                       ..\n",
       "15000  25             50                  220                     73                    1\n",
       "       26             52                  232                     80                    1\n",
       "       27             54                  244                     87                    1\n",
       "       28             56                  256                     95                    1\n",
       "50000  40             80                  400                     128                   1\n",
       "Length: 182, dtype: int64"
      ]
     },
     "execution_count": 22,
     "metadata": {},
     "output_type": "execute_result"
    }
   ],
   "source": [
    "df.value_counts()"
   ]
  },
  {
   "cell_type": "code",
   "execution_count": 23,
   "id": "415d1496",
   "metadata": {},
   "outputs": [],
   "source": [
    "X = df[['Area','Sensing Range','Transmission Range','Number of Sensor nodes','Number of Barriers']].values"
   ]
  },
  {
   "cell_type": "code",
   "execution_count": 24,
   "id": "e50824af",
   "metadata": {},
   "outputs": [
    {
     "data": {
      "text/plain": [
       "(182, 5)"
      ]
     },
     "execution_count": 24,
     "metadata": {},
     "output_type": "execute_result"
    }
   ],
   "source": [
    "X.shape"
   ]
  },
  {
   "cell_type": "code",
   "execution_count": 25,
   "id": "47473f4a",
   "metadata": {},
   "outputs": [],
   "source": [
    "Y = pd.get_dummies(df['Area']).values"
   ]
  },
  {
   "cell_type": "code",
   "execution_count": 26,
   "id": "c23aba5f",
   "metadata": {},
   "outputs": [
    {
     "data": {
      "text/plain": [
       "(182, 7)"
      ]
     },
     "execution_count": 26,
     "metadata": {},
     "output_type": "execute_result"
    }
   ],
   "source": [
    "Y.shape"
   ]
  },
  {
   "cell_type": "code",
   "execution_count": 27,
   "id": "7d412b87",
   "metadata": {},
   "outputs": [
    {
     "data": {
      "text/plain": [
       "array([[ 5000,    15,    30,   100,    30],\n",
       "       [ 5000,    16,    32,   112,    35],\n",
       "       [ 5000,    17,    34,   124,    42],\n",
       "       [ 5000,    18,    36,   136,    48],\n",
       "       [ 5000,    19,    38,   148,    56],\n",
       "       [ 5000,    20,    40,   160,    64],\n",
       "       [ 5000,    21,    42,   172,    72],\n",
       "       [ 5000,    22,    44,   184,    80],\n",
       "       [ 5000,    23,    46,   196,    90],\n",
       "       [ 5000,    24,    48,   208,    99],\n",
       "       [ 5000,    25,    50,   220,   110],\n",
       "       [ 5000,    26,    52,   232,   120],\n",
       "       [ 5000,    27,    54,   244,   131],\n",
       "       [ 5000,    28,    56,   256,   143],\n",
       "       [ 5000,    29,    58,   268,   155],\n",
       "       [ 5000,    30,    60,   280,   168],\n",
       "       [ 5000,    31,    62,   292,   181],\n",
       "       [ 5000,    32,    64,   304,   194],\n",
       "       [ 5000,    33,    66,   316,   208],\n",
       "       [ 5000,    34,    68,   328,   223],\n",
       "       [ 5000,    35,    70,   340,   238],\n",
       "       [ 5000,    36,    72,   352,   253],\n",
       "       [ 5000,    37,    74,   364,   269],\n",
       "       [ 5000,    38,    76,   376,   285],\n",
       "       [ 5000,    39,    78,   388,   302],\n",
       "       [ 5000,    40,    80,   400,   320],\n",
       "       [ 9375,    15,    30,   100,    24],\n",
       "       [ 9375,    16,    32,   112,    28],\n",
       "       [ 9375,    17,    34,   124,    33],\n",
       "       [ 9375,    18,    36,   136,    39],\n",
       "       [ 9375,    19,    38,   148,    44],\n",
       "       [ 9375,    20,    40,   160,    51],\n",
       "       [ 9375,    21,    42,   172,    57],\n",
       "       [ 9375,    22,    44,   184,    64],\n",
       "       [ 9375,    23,    46,   196,    72],\n",
       "       [ 9375,    24,    48,   208,    79],\n",
       "       [ 9375,    25,    50,   220,    88],\n",
       "       [ 9375,    26,    52,   232,    96],\n",
       "       [ 9375,    27,    54,   244,   105],\n",
       "       [ 9375,    28,    56,   256,   114],\n",
       "       [ 9375,    29,    58,   268,   124],\n",
       "       [ 9375,    30,    60,   280,   134],\n",
       "       [ 9375,    31,    62,   292,   144],\n",
       "       [ 9375,    32,    64,   304,   155],\n",
       "       [ 9375,    33,    66,   316,   166],\n",
       "       [ 9375,    34,    68,   328,   178],\n",
       "       [ 9375,    35,    70,   340,   190],\n",
       "       [ 9375,    36,    72,   352,   202],\n",
       "       [ 9375,    37,    74,   364,   215],\n",
       "       [ 9375,    38,    76,   376,   228],\n",
       "       [ 9375,    39,    78,   388,   242],\n",
       "       [ 9375,    40,    80,   400,   256],\n",
       "       [15000,    15,    30,   100,    20],\n",
       "       [15000,    16,    32,   112,    23],\n",
       "       [15000,    17,    34,   124,    28],\n",
       "       [15000,    18,    36,   136,    32],\n",
       "       [15000,    19,    38,   148,    37],\n",
       "       [15000,    20,    40,   160,    42],\n",
       "       [15000,    21,    42,   172,    48],\n",
       "       [15000,    22,    44,   184,    53],\n",
       "       [15000,    23,    46,   196,    60],\n",
       "       [15000,    24,    48,   208,    66],\n",
       "       [15000,    25,    50,   220,    73],\n",
       "       [15000,    26,    52,   232,    80],\n",
       "       [15000,    27,    54,   244,    87],\n",
       "       [15000,    28,    56,   256,    95],\n",
       "       [15000,    29,    58,   268,   103],\n",
       "       [15000,    30,    60,   280,   112],\n",
       "       [15000,    31,    62,   292,   120],\n",
       "       [15000,    32,    64,   304,   129],\n",
       "       [15000,    33,    66,   316,   139],\n",
       "       [15000,    34,    68,   328,   148],\n",
       "       [15000,    35,    70,   340,   158],\n",
       "       [15000,    36,    72,   352,   168],\n",
       "       [15000,    37,    74,   364,   179],\n",
       "       [15000,    38,    76,   376,   190],\n",
       "       [15000,    39,    78,   388,   201],\n",
       "       [15000,    40,    80,   400,   213],\n",
       "       [21875,    15,    30,   100,    17],\n",
       "       [21875,    16,    32,   112,    20],\n",
       "       [21875,    17,    34,   124,    24],\n",
       "       [21875,    18,    36,   136,    27],\n",
       "       [21875,    19,    38,   148,    32],\n",
       "       [21875,    20,    40,   160,    36],\n",
       "       [21875,    21,    42,   172,    41],\n",
       "       [21875,    22,    44,   184,    46],\n",
       "       [21875,    23,    46,   196,    51],\n",
       "       [21875,    24,    48,   208,    57],\n",
       "       [21875,    25,    50,   220,    62],\n",
       "       [21875,    26,    52,   232,    68],\n",
       "       [21875,    27,    54,   244,    75],\n",
       "       [21875,    28,    56,   256,    81],\n",
       "       [21875,    29,    58,   268,    88],\n",
       "       [21875,    30,    60,   280,    96],\n",
       "       [21875,    31,    62,   292,   103],\n",
       "       [21875,    32,    64,   304,   111],\n",
       "       [21875,    33,    66,   316,   119],\n",
       "       [21875,    34,    68,   328,   127],\n",
       "       [21875,    35,    70,   340,   136],\n",
       "       [21875,    36,    72,   352,   144],\n",
       "       [21875,    37,    74,   364,   153],\n",
       "       [21875,    38,    76,   376,   163],\n",
       "       [21875,    39,    78,   388,   172],\n",
       "       [21875,    40,    80,   400,   182],\n",
       "       [30000,    15,    30,   100,    15],\n",
       "       [30000,    16,    32,   112,    17],\n",
       "       [30000,    17,    34,   124,    21],\n",
       "       [30000,    18,    36,   136,    24],\n",
       "       [30000,    19,    38,   148,    28],\n",
       "       [30000,    20,    40,   160,    32],\n",
       "       [30000,    21,    42,   172,    36],\n",
       "       [30000,    22,    44,   184,    40],\n",
       "       [30000,    23,    46,   196,    45],\n",
       "       [30000,    24,    48,   208,    49],\n",
       "       [30000,    25,    50,   220,    55],\n",
       "       [30000,    26,    52,   232,    60],\n",
       "       [30000,    27,    54,   244,    65],\n",
       "       [30000,    28,    56,   256,    71],\n",
       "       [30000,    29,    58,   268,    77],\n",
       "       [30000,    30,    60,   280,    84],\n",
       "       [30000,    31,    62,   292,    90],\n",
       "       [30000,    32,    64,   304,    97],\n",
       "       [30000,    33,    66,   316,   104],\n",
       "       [30000,    34,    68,   328,   111],\n",
       "       [30000,    35,    70,   340,   119],\n",
       "       [30000,    36,    72,   352,   126],\n",
       "       [30000,    37,    74,   364,   134],\n",
       "       [30000,    38,    76,   376,   142],\n",
       "       [30000,    39,    78,   388,   151],\n",
       "       [30000,    40,    80,   400,   160],\n",
       "       [39375,    15,    30,   100,    13],\n",
       "       [39375,    16,    32,   112,    15],\n",
       "       [39375,    17,    34,   124,    18],\n",
       "       [39375,    18,    36,   136,    21],\n",
       "       [39375,    19,    38,   148,    24],\n",
       "       [39375,    20,    40,   160,    28],\n",
       "       [39375,    21,    42,   172,    32],\n",
       "       [39375,    22,    44,   184,    35],\n",
       "       [39375,    23,    46,   196,    40],\n",
       "       [39375,    24,    48,   208,    44],\n",
       "       [39375,    25,    50,   220,    48],\n",
       "       [39375,    26,    52,   232,    53],\n",
       "       [39375,    27,    54,   244,    58],\n",
       "       [39375,    28,    56,   256,    63],\n",
       "       [39375,    29,    58,   268,    69],\n",
       "       [39375,    30,    60,   280,    74],\n",
       "       [39375,    31,    62,   292,    80],\n",
       "       [39375,    32,    64,   304,    86],\n",
       "       [39375,    33,    66,   316,    92],\n",
       "       [39375,    34,    68,   328,    99],\n",
       "       [39375,    35,    70,   340,   105],\n",
       "       [39375,    36,    72,   352,   112],\n",
       "       [39375,    37,    74,   364,   119],\n",
       "       [39375,    38,    76,   376,   127],\n",
       "       [39375,    39,    78,   388,   134],\n",
       "       [39375,    40,    80,   400,   142],\n",
       "       [50000,    15,    30,   100,    12],\n",
       "       [50000,    16,    32,   112,    12],\n",
       "       [50000,    17,    34,   124,    16],\n",
       "       [50000,    18,    36,   136,    19],\n",
       "       [50000,    19,    38,   148,    22],\n",
       "       [50000,    20,    40,   160,    25],\n",
       "       [50000,    21,    42,   172,    28],\n",
       "       [50000,    22,    44,   184,    32],\n",
       "       [50000,    23,    46,   196,    36],\n",
       "       [50000,    24,    48,   208,    39],\n",
       "       [50000,    25,    50,   220,    44],\n",
       "       [50000,    26,    52,   232,    48],\n",
       "       [50000,    27,    54,   244,    52],\n",
       "       [50000,    28,    56,   256,    57],\n",
       "       [50000,    29,    58,   268,    62],\n",
       "       [50000,    30,    60,   280,    67],\n",
       "       [50000,    31,    62,   292,    72],\n",
       "       [50000,    32,    64,   304,    77],\n",
       "       [50000,    33,    66,   316,    83],\n",
       "       [50000,    34,    68,   328,    89],\n",
       "       [50000,    35,    70,   340,    95],\n",
       "       [50000,    36,    72,   352,   101],\n",
       "       [50000,    37,    74,   364,   107],\n",
       "       [50000,    38,    76,   376,   114],\n",
       "       [50000,    39,    78,   388,   121],\n",
       "       [50000,    40,    80,   400,   128]], dtype=int64)"
      ]
     },
     "execution_count": 27,
     "metadata": {},
     "output_type": "execute_result"
    }
   ],
   "source": [
    "X"
   ]
  },
  {
   "cell_type": "code",
   "execution_count": 28,
   "id": "0c218efa",
   "metadata": {},
   "outputs": [
    {
     "data": {
      "text/plain": [
       "array([[1, 0, 0, ..., 0, 0, 0],\n",
       "       [1, 0, 0, ..., 0, 0, 0],\n",
       "       [1, 0, 0, ..., 0, 0, 0],\n",
       "       ...,\n",
       "       [0, 0, 0, ..., 0, 0, 1],\n",
       "       [0, 0, 0, ..., 0, 0, 1],\n",
       "       [0, 0, 0, ..., 0, 0, 1]], dtype=uint8)"
      ]
     },
     "execution_count": 28,
     "metadata": {},
     "output_type": "execute_result"
    }
   ],
   "source": [
    "Y"
   ]
  },
  {
   "cell_type": "code",
   "execution_count": 29,
   "id": "b65a664b",
   "metadata": {},
   "outputs": [],
   "source": [
    "scaler = MinMaxScaler()"
   ]
  },
  {
   "cell_type": "code",
   "execution_count": 30,
   "id": "7aab3013",
   "metadata": {},
   "outputs": [
    {
     "data": {
      "text/html": [
       "<style>#sk-container-id-1 {color: black;}#sk-container-id-1 pre{padding: 0;}#sk-container-id-1 div.sk-toggleable {background-color: white;}#sk-container-id-1 label.sk-toggleable__label {cursor: pointer;display: block;width: 100%;margin-bottom: 0;padding: 0.3em;box-sizing: border-box;text-align: center;}#sk-container-id-1 label.sk-toggleable__label-arrow:before {content: \"▸\";float: left;margin-right: 0.25em;color: #696969;}#sk-container-id-1 label.sk-toggleable__label-arrow:hover:before {color: black;}#sk-container-id-1 div.sk-estimator:hover label.sk-toggleable__label-arrow:before {color: black;}#sk-container-id-1 div.sk-toggleable__content {max-height: 0;max-width: 0;overflow: hidden;text-align: left;background-color: #f0f8ff;}#sk-container-id-1 div.sk-toggleable__content pre {margin: 0.2em;color: black;border-radius: 0.25em;background-color: #f0f8ff;}#sk-container-id-1 input.sk-toggleable__control:checked~div.sk-toggleable__content {max-height: 200px;max-width: 100%;overflow: auto;}#sk-container-id-1 input.sk-toggleable__control:checked~label.sk-toggleable__label-arrow:before {content: \"▾\";}#sk-container-id-1 div.sk-estimator input.sk-toggleable__control:checked~label.sk-toggleable__label {background-color: #d4ebff;}#sk-container-id-1 div.sk-label input.sk-toggleable__control:checked~label.sk-toggleable__label {background-color: #d4ebff;}#sk-container-id-1 input.sk-hidden--visually {border: 0;clip: rect(1px 1px 1px 1px);clip: rect(1px, 1px, 1px, 1px);height: 1px;margin: -1px;overflow: hidden;padding: 0;position: absolute;width: 1px;}#sk-container-id-1 div.sk-estimator {font-family: monospace;background-color: #f0f8ff;border: 1px dotted black;border-radius: 0.25em;box-sizing: border-box;margin-bottom: 0.5em;}#sk-container-id-1 div.sk-estimator:hover {background-color: #d4ebff;}#sk-container-id-1 div.sk-parallel-item::after {content: \"\";width: 100%;border-bottom: 1px solid gray;flex-grow: 1;}#sk-container-id-1 div.sk-label:hover label.sk-toggleable__label {background-color: #d4ebff;}#sk-container-id-1 div.sk-serial::before {content: \"\";position: absolute;border-left: 1px solid gray;box-sizing: border-box;top: 0;bottom: 0;left: 50%;z-index: 0;}#sk-container-id-1 div.sk-serial {display: flex;flex-direction: column;align-items: center;background-color: white;padding-right: 0.2em;padding-left: 0.2em;position: relative;}#sk-container-id-1 div.sk-item {position: relative;z-index: 1;}#sk-container-id-1 div.sk-parallel {display: flex;align-items: stretch;justify-content: center;background-color: white;position: relative;}#sk-container-id-1 div.sk-item::before, #sk-container-id-1 div.sk-parallel-item::before {content: \"\";position: absolute;border-left: 1px solid gray;box-sizing: border-box;top: 0;bottom: 0;left: 50%;z-index: -1;}#sk-container-id-1 div.sk-parallel-item {display: flex;flex-direction: column;z-index: 1;position: relative;background-color: white;}#sk-container-id-1 div.sk-parallel-item:first-child::after {align-self: flex-end;width: 50%;}#sk-container-id-1 div.sk-parallel-item:last-child::after {align-self: flex-start;width: 50%;}#sk-container-id-1 div.sk-parallel-item:only-child::after {width: 0;}#sk-container-id-1 div.sk-dashed-wrapped {border: 1px dashed gray;margin: 0 0.4em 0.5em 0.4em;box-sizing: border-box;padding-bottom: 0.4em;background-color: white;}#sk-container-id-1 div.sk-label label {font-family: monospace;font-weight: bold;display: inline-block;line-height: 1.2em;}#sk-container-id-1 div.sk-label-container {text-align: center;}#sk-container-id-1 div.sk-container {/* jupyter's `normalize.less` sets `[hidden] { display: none; }` but bootstrap.min.css set `[hidden] { display: none !important; }` so we also need the `!important` here to be able to override the default hidden behavior on the sphinx rendered scikit-learn.org. See: https://github.com/scikit-learn/scikit-learn/issues/21755 */display: inline-block !important;position: relative;}#sk-container-id-1 div.sk-text-repr-fallback {display: none;}</style><div id=\"sk-container-id-1\" class=\"sk-top-container\"><div class=\"sk-text-repr-fallback\"><pre>MinMaxScaler()</pre><b>In a Jupyter environment, please rerun this cell to show the HTML representation or trust the notebook. <br />On GitHub, the HTML representation is unable to render, please try loading this page with nbviewer.org.</b></div><div class=\"sk-container\" hidden><div class=\"sk-item\"><div class=\"sk-estimator sk-toggleable\"><input class=\"sk-toggleable__control sk-hidden--visually\" id=\"sk-estimator-id-1\" type=\"checkbox\" checked><label for=\"sk-estimator-id-1\" class=\"sk-toggleable__label sk-toggleable__label-arrow\">MinMaxScaler</label><div class=\"sk-toggleable__content\"><pre>MinMaxScaler()</pre></div></div></div></div></div>"
      ],
      "text/plain": [
       "MinMaxScaler()"
      ]
     },
     "execution_count": 30,
     "metadata": {},
     "output_type": "execute_result"
    }
   ],
   "source": [
    "scaler.fit(X)"
   ]
  },
  {
   "cell_type": "code",
   "execution_count": 31,
   "id": "6217d879",
   "metadata": {},
   "outputs": [],
   "source": [
    "normalized_x = scaler.transform(X)"
   ]
  },
  {
   "cell_type": "code",
   "execution_count": 32,
   "id": "8bd6b867",
   "metadata": {},
   "outputs": [
    {
     "data": {
      "text/plain": [
       "array([[0.        , 0.        , 0.        , 0.        , 0.05844156],\n",
       "       [0.        , 0.04      , 0.04      , 0.04      , 0.07467532],\n",
       "       [0.        , 0.08      , 0.08      , 0.08      , 0.0974026 ],\n",
       "       [0.        , 0.12      , 0.12      , 0.12      , 0.11688312],\n",
       "       [0.        , 0.16      , 0.16      , 0.16      , 0.14285714],\n",
       "       [0.        , 0.2       , 0.2       , 0.2       , 0.16883117],\n",
       "       [0.        , 0.24      , 0.24      , 0.24      , 0.19480519],\n",
       "       [0.        , 0.28      , 0.28      , 0.28      , 0.22077922],\n",
       "       [0.        , 0.32      , 0.32      , 0.32      , 0.25324675],\n",
       "       [0.        , 0.36      , 0.36      , 0.36      , 0.28246753],\n",
       "       [0.        , 0.4       , 0.4       , 0.4       , 0.31818182],\n",
       "       [0.        , 0.44      , 0.44      , 0.44      , 0.35064935],\n",
       "       [0.        , 0.48      , 0.48      , 0.48      , 0.38636364],\n",
       "       [0.        , 0.52      , 0.52      , 0.52      , 0.42532468],\n",
       "       [0.        , 0.56      , 0.56      , 0.56      , 0.46428571],\n",
       "       [0.        , 0.6       , 0.6       , 0.6       , 0.50649351],\n",
       "       [0.        , 0.64      , 0.64      , 0.64      , 0.5487013 ],\n",
       "       [0.        , 0.68      , 0.68      , 0.68      , 0.59090909],\n",
       "       [0.        , 0.72      , 0.72      , 0.72      , 0.63636364],\n",
       "       [0.        , 0.76      , 0.76      , 0.76      , 0.68506494],\n",
       "       [0.        , 0.8       , 0.8       , 0.8       , 0.73376623],\n",
       "       [0.        , 0.84      , 0.84      , 0.84      , 0.78246753],\n",
       "       [0.        , 0.88      , 0.88      , 0.88      , 0.83441558],\n",
       "       [0.        , 0.92      , 0.92      , 0.92      , 0.88636364],\n",
       "       [0.        , 0.96      , 0.96      , 0.96      , 0.94155844],\n",
       "       [0.        , 1.        , 1.        , 1.        , 1.        ],\n",
       "       [0.09722222, 0.        , 0.        , 0.        , 0.03896104],\n",
       "       [0.09722222, 0.04      , 0.04      , 0.04      , 0.05194805],\n",
       "       [0.09722222, 0.08      , 0.08      , 0.08      , 0.06818182],\n",
       "       [0.09722222, 0.12      , 0.12      , 0.12      , 0.08766234],\n",
       "       [0.09722222, 0.16      , 0.16      , 0.16      , 0.1038961 ],\n",
       "       [0.09722222, 0.2       , 0.2       , 0.2       , 0.12662338],\n",
       "       [0.09722222, 0.24      , 0.24      , 0.24      , 0.1461039 ],\n",
       "       [0.09722222, 0.28      , 0.28      , 0.28      , 0.16883117],\n",
       "       [0.09722222, 0.32      , 0.32      , 0.32      , 0.19480519],\n",
       "       [0.09722222, 0.36      , 0.36      , 0.36      , 0.21753247],\n",
       "       [0.09722222, 0.4       , 0.4       , 0.4       , 0.24675325],\n",
       "       [0.09722222, 0.44      , 0.44      , 0.44      , 0.27272727],\n",
       "       [0.09722222, 0.48      , 0.48      , 0.48      , 0.30194805],\n",
       "       [0.09722222, 0.52      , 0.52      , 0.52      , 0.33116883],\n",
       "       [0.09722222, 0.56      , 0.56      , 0.56      , 0.36363636],\n",
       "       [0.09722222, 0.6       , 0.6       , 0.6       , 0.3961039 ],\n",
       "       [0.09722222, 0.64      , 0.64      , 0.64      , 0.42857143],\n",
       "       [0.09722222, 0.68      , 0.68      , 0.68      , 0.46428571],\n",
       "       [0.09722222, 0.72      , 0.72      , 0.72      , 0.5       ],\n",
       "       [0.09722222, 0.76      , 0.76      , 0.76      , 0.53896104],\n",
       "       [0.09722222, 0.8       , 0.8       , 0.8       , 0.57792208],\n",
       "       [0.09722222, 0.84      , 0.84      , 0.84      , 0.61688312],\n",
       "       [0.09722222, 0.88      , 0.88      , 0.88      , 0.65909091],\n",
       "       [0.09722222, 0.92      , 0.92      , 0.92      , 0.7012987 ],\n",
       "       [0.09722222, 0.96      , 0.96      , 0.96      , 0.74675325],\n",
       "       [0.09722222, 1.        , 1.        , 1.        , 0.79220779],\n",
       "       [0.22222222, 0.        , 0.        , 0.        , 0.02597403],\n",
       "       [0.22222222, 0.04      , 0.04      , 0.04      , 0.03571429],\n",
       "       [0.22222222, 0.08      , 0.08      , 0.08      , 0.05194805],\n",
       "       [0.22222222, 0.12      , 0.12      , 0.12      , 0.06493506],\n",
       "       [0.22222222, 0.16      , 0.16      , 0.16      , 0.08116883],\n",
       "       [0.22222222, 0.2       , 0.2       , 0.2       , 0.0974026 ],\n",
       "       [0.22222222, 0.24      , 0.24      , 0.24      , 0.11688312],\n",
       "       [0.22222222, 0.28      , 0.28      , 0.28      , 0.13311688],\n",
       "       [0.22222222, 0.32      , 0.32      , 0.32      , 0.15584416],\n",
       "       [0.22222222, 0.36      , 0.36      , 0.36      , 0.17532468],\n",
       "       [0.22222222, 0.4       , 0.4       , 0.4       , 0.19805195],\n",
       "       [0.22222222, 0.44      , 0.44      , 0.44      , 0.22077922],\n",
       "       [0.22222222, 0.48      , 0.48      , 0.48      , 0.24350649],\n",
       "       [0.22222222, 0.52      , 0.52      , 0.52      , 0.26948052],\n",
       "       [0.22222222, 0.56      , 0.56      , 0.56      , 0.29545455],\n",
       "       [0.22222222, 0.6       , 0.6       , 0.6       , 0.32467532],\n",
       "       [0.22222222, 0.64      , 0.64      , 0.64      , 0.35064935],\n",
       "       [0.22222222, 0.68      , 0.68      , 0.68      , 0.37987013],\n",
       "       [0.22222222, 0.72      , 0.72      , 0.72      , 0.41233766],\n",
       "       [0.22222222, 0.76      , 0.76      , 0.76      , 0.44155844],\n",
       "       [0.22222222, 0.8       , 0.8       , 0.8       , 0.47402597],\n",
       "       [0.22222222, 0.84      , 0.84      , 0.84      , 0.50649351],\n",
       "       [0.22222222, 0.88      , 0.88      , 0.88      , 0.54220779],\n",
       "       [0.22222222, 0.92      , 0.92      , 0.92      , 0.57792208],\n",
       "       [0.22222222, 0.96      , 0.96      , 0.96      , 0.61363636],\n",
       "       [0.22222222, 1.        , 1.        , 1.        , 0.6525974 ],\n",
       "       [0.375     , 0.        , 0.        , 0.        , 0.01623377],\n",
       "       [0.375     , 0.04      , 0.04      , 0.04      , 0.02597403],\n",
       "       [0.375     , 0.08      , 0.08      , 0.08      , 0.03896104],\n",
       "       [0.375     , 0.12      , 0.12      , 0.12      , 0.0487013 ],\n",
       "       [0.375     , 0.16      , 0.16      , 0.16      , 0.06493506],\n",
       "       [0.375     , 0.2       , 0.2       , 0.2       , 0.07792208],\n",
       "       [0.375     , 0.24      , 0.24      , 0.24      , 0.09415584],\n",
       "       [0.375     , 0.28      , 0.28      , 0.28      , 0.11038961],\n",
       "       [0.375     , 0.32      , 0.32      , 0.32      , 0.12662338],\n",
       "       [0.375     , 0.36      , 0.36      , 0.36      , 0.1461039 ],\n",
       "       [0.375     , 0.4       , 0.4       , 0.4       , 0.16233766],\n",
       "       [0.375     , 0.44      , 0.44      , 0.44      , 0.18181818],\n",
       "       [0.375     , 0.48      , 0.48      , 0.48      , 0.20454545],\n",
       "       [0.375     , 0.52      , 0.52      , 0.52      , 0.22402597],\n",
       "       [0.375     , 0.56      , 0.56      , 0.56      , 0.24675325],\n",
       "       [0.375     , 0.6       , 0.6       , 0.6       , 0.27272727],\n",
       "       [0.375     , 0.64      , 0.64      , 0.64      , 0.29545455],\n",
       "       [0.375     , 0.68      , 0.68      , 0.68      , 0.32142857],\n",
       "       [0.375     , 0.72      , 0.72      , 0.72      , 0.3474026 ],\n",
       "       [0.375     , 0.76      , 0.76      , 0.76      , 0.37337662],\n",
       "       [0.375     , 0.8       , 0.8       , 0.8       , 0.4025974 ],\n",
       "       [0.375     , 0.84      , 0.84      , 0.84      , 0.42857143],\n",
       "       [0.375     , 0.88      , 0.88      , 0.88      , 0.45779221],\n",
       "       [0.375     , 0.92      , 0.92      , 0.92      , 0.49025974],\n",
       "       [0.375     , 0.96      , 0.96      , 0.96      , 0.51948052],\n",
       "       [0.375     , 1.        , 1.        , 1.        , 0.55194805],\n",
       "       [0.55555556, 0.        , 0.        , 0.        , 0.00974026],\n",
       "       [0.55555556, 0.04      , 0.04      , 0.04      , 0.01623377],\n",
       "       [0.55555556, 0.08      , 0.08      , 0.08      , 0.02922078],\n",
       "       [0.55555556, 0.12      , 0.12      , 0.12      , 0.03896104],\n",
       "       [0.55555556, 0.16      , 0.16      , 0.16      , 0.05194805],\n",
       "       [0.55555556, 0.2       , 0.2       , 0.2       , 0.06493506],\n",
       "       [0.55555556, 0.24      , 0.24      , 0.24      , 0.07792208],\n",
       "       [0.55555556, 0.28      , 0.28      , 0.28      , 0.09090909],\n",
       "       [0.55555556, 0.32      , 0.32      , 0.32      , 0.10714286],\n",
       "       [0.55555556, 0.36      , 0.36      , 0.36      , 0.12012987],\n",
       "       [0.55555556, 0.4       , 0.4       , 0.4       , 0.13961039],\n",
       "       [0.55555556, 0.44      , 0.44      , 0.44      , 0.15584416],\n",
       "       [0.55555556, 0.48      , 0.48      , 0.48      , 0.17207792],\n",
       "       [0.55555556, 0.52      , 0.52      , 0.52      , 0.19155844],\n",
       "       [0.55555556, 0.56      , 0.56      , 0.56      , 0.21103896],\n",
       "       [0.55555556, 0.6       , 0.6       , 0.6       , 0.23376623],\n",
       "       [0.55555556, 0.64      , 0.64      , 0.64      , 0.25324675],\n",
       "       [0.55555556, 0.68      , 0.68      , 0.68      , 0.27597403],\n",
       "       [0.55555556, 0.72      , 0.72      , 0.72      , 0.2987013 ],\n",
       "       [0.55555556, 0.76      , 0.76      , 0.76      , 0.32142857],\n",
       "       [0.55555556, 0.8       , 0.8       , 0.8       , 0.3474026 ],\n",
       "       [0.55555556, 0.84      , 0.84      , 0.84      , 0.37012987],\n",
       "       [0.55555556, 0.88      , 0.88      , 0.88      , 0.3961039 ],\n",
       "       [0.55555556, 0.92      , 0.92      , 0.92      , 0.42207792],\n",
       "       [0.55555556, 0.96      , 0.96      , 0.96      , 0.4512987 ],\n",
       "       [0.55555556, 1.        , 1.        , 1.        , 0.48051948],\n",
       "       [0.76388889, 0.        , 0.        , 0.        , 0.00324675],\n",
       "       [0.76388889, 0.04      , 0.04      , 0.04      , 0.00974026],\n",
       "       [0.76388889, 0.08      , 0.08      , 0.08      , 0.01948052],\n",
       "       [0.76388889, 0.12      , 0.12      , 0.12      , 0.02922078],\n",
       "       [0.76388889, 0.16      , 0.16      , 0.16      , 0.03896104],\n",
       "       [0.76388889, 0.2       , 0.2       , 0.2       , 0.05194805],\n",
       "       [0.76388889, 0.24      , 0.24      , 0.24      , 0.06493506],\n",
       "       [0.76388889, 0.28      , 0.28      , 0.28      , 0.07467532],\n",
       "       [0.76388889, 0.32      , 0.32      , 0.32      , 0.09090909],\n",
       "       [0.76388889, 0.36      , 0.36      , 0.36      , 0.1038961 ],\n",
       "       [0.76388889, 0.4       , 0.4       , 0.4       , 0.11688312],\n",
       "       [0.76388889, 0.44      , 0.44      , 0.44      , 0.13311688],\n",
       "       [0.76388889, 0.48      , 0.48      , 0.48      , 0.14935065],\n",
       "       [0.76388889, 0.52      , 0.52      , 0.52      , 0.16558442],\n",
       "       [0.76388889, 0.56      , 0.56      , 0.56      , 0.18506494],\n",
       "       [0.76388889, 0.6       , 0.6       , 0.6       , 0.2012987 ],\n",
       "       [0.76388889, 0.64      , 0.64      , 0.64      , 0.22077922],\n",
       "       [0.76388889, 0.68      , 0.68      , 0.68      , 0.24025974],\n",
       "       [0.76388889, 0.72      , 0.72      , 0.72      , 0.25974026],\n",
       "       [0.76388889, 0.76      , 0.76      , 0.76      , 0.28246753],\n",
       "       [0.76388889, 0.8       , 0.8       , 0.8       , 0.30194805],\n",
       "       [0.76388889, 0.84      , 0.84      , 0.84      , 0.32467532],\n",
       "       [0.76388889, 0.88      , 0.88      , 0.88      , 0.3474026 ],\n",
       "       [0.76388889, 0.92      , 0.92      , 0.92      , 0.37337662],\n",
       "       [0.76388889, 0.96      , 0.96      , 0.96      , 0.3961039 ],\n",
       "       [0.76388889, 1.        , 1.        , 1.        , 0.42207792],\n",
       "       [1.        , 0.        , 0.        , 0.        , 0.        ],\n",
       "       [1.        , 0.04      , 0.04      , 0.04      , 0.        ],\n",
       "       [1.        , 0.08      , 0.08      , 0.08      , 0.01298701],\n",
       "       [1.        , 0.12      , 0.12      , 0.12      , 0.02272727],\n",
       "       [1.        , 0.16      , 0.16      , 0.16      , 0.03246753],\n",
       "       [1.        , 0.2       , 0.2       , 0.2       , 0.04220779],\n",
       "       [1.        , 0.24      , 0.24      , 0.24      , 0.05194805],\n",
       "       [1.        , 0.28      , 0.28      , 0.28      , 0.06493506],\n",
       "       [1.        , 0.32      , 0.32      , 0.32      , 0.07792208],\n",
       "       [1.        , 0.36      , 0.36      , 0.36      , 0.08766234],\n",
       "       [1.        , 0.4       , 0.4       , 0.4       , 0.1038961 ],\n",
       "       [1.        , 0.44      , 0.44      , 0.44      , 0.11688312],\n",
       "       [1.        , 0.48      , 0.48      , 0.48      , 0.12987013],\n",
       "       [1.        , 0.52      , 0.52      , 0.52      , 0.1461039 ],\n",
       "       [1.        , 0.56      , 0.56      , 0.56      , 0.16233766],\n",
       "       [1.        , 0.6       , 0.6       , 0.6       , 0.17857143],\n",
       "       [1.        , 0.64      , 0.64      , 0.64      , 0.19480519],\n",
       "       [1.        , 0.68      , 0.68      , 0.68      , 0.21103896],\n",
       "       [1.        , 0.72      , 0.72      , 0.72      , 0.23051948],\n",
       "       [1.        , 0.76      , 0.76      , 0.76      , 0.25      ],\n",
       "       [1.        , 0.8       , 0.8       , 0.8       , 0.26948052],\n",
       "       [1.        , 0.84      , 0.84      , 0.84      , 0.28896104],\n",
       "       [1.        , 0.88      , 0.88      , 0.88      , 0.30844156],\n",
       "       [1.        , 0.92      , 0.92      , 0.92      , 0.33116883],\n",
       "       [1.        , 0.96      , 0.96      , 0.96      , 0.3538961 ],\n",
       "       [1.        , 1.        , 1.        , 1.        , 0.37662338]])"
      ]
     },
     "execution_count": 32,
     "metadata": {},
     "output_type": "execute_result"
    }
   ],
   "source": [
    "normalized_x"
   ]
  },
  {
   "cell_type": "code",
   "execution_count": 33,
   "id": "9a03c4eb",
   "metadata": {},
   "outputs": [
    {
     "data": {
      "text/plain": [
       "(182, 5)"
      ]
     },
     "execution_count": 33,
     "metadata": {},
     "output_type": "execute_result"
    }
   ],
   "source": [
    "normalized_x.shape"
   ]
  },
  {
   "cell_type": "code",
   "execution_count": 34,
   "id": "59a04a15",
   "metadata": {},
   "outputs": [
    {
     "data": {
      "text/html": [
       "<style>#sk-container-id-2 {color: black;}#sk-container-id-2 pre{padding: 0;}#sk-container-id-2 div.sk-toggleable {background-color: white;}#sk-container-id-2 label.sk-toggleable__label {cursor: pointer;display: block;width: 100%;margin-bottom: 0;padding: 0.3em;box-sizing: border-box;text-align: center;}#sk-container-id-2 label.sk-toggleable__label-arrow:before {content: \"▸\";float: left;margin-right: 0.25em;color: #696969;}#sk-container-id-2 label.sk-toggleable__label-arrow:hover:before {color: black;}#sk-container-id-2 div.sk-estimator:hover label.sk-toggleable__label-arrow:before {color: black;}#sk-container-id-2 div.sk-toggleable__content {max-height: 0;max-width: 0;overflow: hidden;text-align: left;background-color: #f0f8ff;}#sk-container-id-2 div.sk-toggleable__content pre {margin: 0.2em;color: black;border-radius: 0.25em;background-color: #f0f8ff;}#sk-container-id-2 input.sk-toggleable__control:checked~div.sk-toggleable__content {max-height: 200px;max-width: 100%;overflow: auto;}#sk-container-id-2 input.sk-toggleable__control:checked~label.sk-toggleable__label-arrow:before {content: \"▾\";}#sk-container-id-2 div.sk-estimator input.sk-toggleable__control:checked~label.sk-toggleable__label {background-color: #d4ebff;}#sk-container-id-2 div.sk-label input.sk-toggleable__control:checked~label.sk-toggleable__label {background-color: #d4ebff;}#sk-container-id-2 input.sk-hidden--visually {border: 0;clip: rect(1px 1px 1px 1px);clip: rect(1px, 1px, 1px, 1px);height: 1px;margin: -1px;overflow: hidden;padding: 0;position: absolute;width: 1px;}#sk-container-id-2 div.sk-estimator {font-family: monospace;background-color: #f0f8ff;border: 1px dotted black;border-radius: 0.25em;box-sizing: border-box;margin-bottom: 0.5em;}#sk-container-id-2 div.sk-estimator:hover {background-color: #d4ebff;}#sk-container-id-2 div.sk-parallel-item::after {content: \"\";width: 100%;border-bottom: 1px solid gray;flex-grow: 1;}#sk-container-id-2 div.sk-label:hover label.sk-toggleable__label {background-color: #d4ebff;}#sk-container-id-2 div.sk-serial::before {content: \"\";position: absolute;border-left: 1px solid gray;box-sizing: border-box;top: 0;bottom: 0;left: 50%;z-index: 0;}#sk-container-id-2 div.sk-serial {display: flex;flex-direction: column;align-items: center;background-color: white;padding-right: 0.2em;padding-left: 0.2em;position: relative;}#sk-container-id-2 div.sk-item {position: relative;z-index: 1;}#sk-container-id-2 div.sk-parallel {display: flex;align-items: stretch;justify-content: center;background-color: white;position: relative;}#sk-container-id-2 div.sk-item::before, #sk-container-id-2 div.sk-parallel-item::before {content: \"\";position: absolute;border-left: 1px solid gray;box-sizing: border-box;top: 0;bottom: 0;left: 50%;z-index: -1;}#sk-container-id-2 div.sk-parallel-item {display: flex;flex-direction: column;z-index: 1;position: relative;background-color: white;}#sk-container-id-2 div.sk-parallel-item:first-child::after {align-self: flex-end;width: 50%;}#sk-container-id-2 div.sk-parallel-item:last-child::after {align-self: flex-start;width: 50%;}#sk-container-id-2 div.sk-parallel-item:only-child::after {width: 0;}#sk-container-id-2 div.sk-dashed-wrapped {border: 1px dashed gray;margin: 0 0.4em 0.5em 0.4em;box-sizing: border-box;padding-bottom: 0.4em;background-color: white;}#sk-container-id-2 div.sk-label label {font-family: monospace;font-weight: bold;display: inline-block;line-height: 1.2em;}#sk-container-id-2 div.sk-label-container {text-align: center;}#sk-container-id-2 div.sk-container {/* jupyter's `normalize.less` sets `[hidden] { display: none; }` but bootstrap.min.css set `[hidden] { display: none !important; }` so we also need the `!important` here to be able to override the default hidden behavior on the sphinx rendered scikit-learn.org. See: https://github.com/scikit-learn/scikit-learn/issues/21755 */display: inline-block !important;position: relative;}#sk-container-id-2 div.sk-text-repr-fallback {display: none;}</style><div id=\"sk-container-id-2\" class=\"sk-top-container\"><div class=\"sk-text-repr-fallback\"><pre>MinMaxScaler()</pre><b>In a Jupyter environment, please rerun this cell to show the HTML representation or trust the notebook. <br />On GitHub, the HTML representation is unable to render, please try loading this page with nbviewer.org.</b></div><div class=\"sk-container\" hidden><div class=\"sk-item\"><div class=\"sk-estimator sk-toggleable\"><input class=\"sk-toggleable__control sk-hidden--visually\" id=\"sk-estimator-id-2\" type=\"checkbox\" checked><label for=\"sk-estimator-id-2\" class=\"sk-toggleable__label sk-toggleable__label-arrow\">MinMaxScaler</label><div class=\"sk-toggleable__content\"><pre>MinMaxScaler()</pre></div></div></div></div></div>"
      ],
      "text/plain": [
       "MinMaxScaler()"
      ]
     },
     "execution_count": 34,
     "metadata": {},
     "output_type": "execute_result"
    }
   ],
   "source": [
    "scaler.fit(Y)"
   ]
  },
  {
   "cell_type": "code",
   "execution_count": 35,
   "id": "5166d8df",
   "metadata": {},
   "outputs": [],
   "source": [
    "normalized_y = scaler.transform(Y)"
   ]
  },
  {
   "cell_type": "code",
   "execution_count": 36,
   "id": "57119e08",
   "metadata": {},
   "outputs": [
    {
     "data": {
      "text/plain": [
       "array([[1., 0., 0., ..., 0., 0., 0.],\n",
       "       [1., 0., 0., ..., 0., 0., 0.],\n",
       "       [1., 0., 0., ..., 0., 0., 0.],\n",
       "       ...,\n",
       "       [0., 0., 0., ..., 0., 0., 1.],\n",
       "       [0., 0., 0., ..., 0., 0., 1.],\n",
       "       [0., 0., 0., ..., 0., 0., 1.]])"
      ]
     },
     "execution_count": 36,
     "metadata": {},
     "output_type": "execute_result"
    }
   ],
   "source": [
    "normalized_y"
   ]
  },
  {
   "cell_type": "code",
   "execution_count": 37,
   "id": "aca392c1",
   "metadata": {},
   "outputs": [],
   "source": [
    "X_train, X_test, Y_train, Y_test = train_test_split(normalized_x, normalized_y, random_state=10, test_size=0.2)"
   ]
  },
  {
   "cell_type": "code",
   "execution_count": 38,
   "id": "ed503ac1",
   "metadata": {},
   "outputs": [
    {
     "data": {
      "text/plain": [
       "(145, 5)"
      ]
     },
     "execution_count": 38,
     "metadata": {},
     "output_type": "execute_result"
    }
   ],
   "source": [
    "X_train.shape"
   ]
  },
  {
   "cell_type": "code",
   "execution_count": 39,
   "id": "58460026",
   "metadata": {},
   "outputs": [],
   "source": [
    "model = Sequential()"
   ]
  },
  {
   "cell_type": "code",
   "execution_count": 40,
   "id": "8d539bd6-8741-4f3a-b1d9-65103dc9a26a",
   "metadata": {},
   "outputs": [],
   "source": [
    "model.add(Dense(2000, activation='relu',input_dim=24))\n",
    "model.add(Dense(1500, activation='relu'))\n",
    "model.add(Dropout(0.2))\n",
    "model.add(Dense(800,activation='relu'))\n",
    "model.add(Dropout(0.2))\n",
    "model.add(Dense(400,activation='relu'))\n",
    "model.add(Dropout(0.2))\n",
    "model.add(Dense(150,activation='relu'))\n",
    "model.add(Dropout(0.2))\n",
    "model.add(Dense(12, activation='softmax'))\n",
    "model.compile(loss='categorical_crossentropy', optimizer='adam', metrics=['accuracy'])"
   ]
  },
  {
   "cell_type": "code",
   "execution_count": 41,
   "id": "8ae6fb1e",
   "metadata": {},
   "outputs": [
    {
     "name": "stdout",
     "output_type": "stream",
     "text": [
      "Model: \"sequential\"\n",
      "_________________________________________________________________\n",
      " Layer (type)                Output Shape              Param #   \n",
      "=================================================================\n",
      " dense (Dense)               (None, 2000)              50000     \n",
      "                                                                 \n",
      " dense_1 (Dense)             (None, 1500)              3001500   \n",
      "                                                                 \n",
      " dropout (Dropout)           (None, 1500)              0         \n",
      "                                                                 \n",
      " dense_2 (Dense)             (None, 800)               1200800   \n",
      "                                                                 \n",
      " dropout_1 (Dropout)         (None, 800)               0         \n",
      "                                                                 \n",
      " dense_3 (Dense)             (None, 400)               320400    \n",
      "                                                                 \n",
      " dropout_2 (Dropout)         (None, 400)               0         \n",
      "                                                                 \n",
      " dense_4 (Dense)             (None, 150)               60150     \n",
      "                                                                 \n",
      " dropout_3 (Dropout)         (None, 150)               0         \n",
      "                                                                 \n",
      " dense_5 (Dense)             (None, 12)                1812      \n",
      "                                                                 \n",
      "=================================================================\n",
      "Total params: 4,634,662\n",
      "Trainable params: 4,634,662\n",
      "Non-trainable params: 0\n",
      "_________________________________________________________________\n"
     ]
    }
   ],
   "source": [
    "model.summary()"
   ]
  },
  {
   "cell_type": "markdown",
   "id": "8338dbaa",
   "metadata": {},
   "source": [
    "## 2) Decision Tree"
   ]
  },
  {
   "cell_type": "code",
   "execution_count": 42,
   "id": "97e24533",
   "metadata": {},
   "outputs": [
    {
     "data": {
      "text/html": [
       "<div>\n",
       "<style scoped>\n",
       "    .dataframe tbody tr th:only-of-type {\n",
       "        vertical-align: middle;\n",
       "    }\n",
       "\n",
       "    .dataframe tbody tr th {\n",
       "        vertical-align: top;\n",
       "    }\n",
       "\n",
       "    .dataframe thead th {\n",
       "        text-align: right;\n",
       "    }\n",
       "</style>\n",
       "<table border=\"1\" class=\"dataframe\">\n",
       "  <thead>\n",
       "    <tr style=\"text-align: right;\">\n",
       "      <th></th>\n",
       "      <th>Area</th>\n",
       "      <th>Sensing Range</th>\n",
       "      <th>Transmission Range</th>\n",
       "      <th>Number of Sensor nodes</th>\n",
       "      <th>Number of Barriers</th>\n",
       "    </tr>\n",
       "  </thead>\n",
       "  <tbody>\n",
       "    <tr>\n",
       "      <th>0</th>\n",
       "      <td>5000</td>\n",
       "      <td>15</td>\n",
       "      <td>30</td>\n",
       "      <td>100</td>\n",
       "      <td>30</td>\n",
       "    </tr>\n",
       "    <tr>\n",
       "      <th>1</th>\n",
       "      <td>5000</td>\n",
       "      <td>16</td>\n",
       "      <td>32</td>\n",
       "      <td>112</td>\n",
       "      <td>35</td>\n",
       "    </tr>\n",
       "    <tr>\n",
       "      <th>2</th>\n",
       "      <td>5000</td>\n",
       "      <td>17</td>\n",
       "      <td>34</td>\n",
       "      <td>124</td>\n",
       "      <td>42</td>\n",
       "    </tr>\n",
       "    <tr>\n",
       "      <th>3</th>\n",
       "      <td>5000</td>\n",
       "      <td>18</td>\n",
       "      <td>36</td>\n",
       "      <td>136</td>\n",
       "      <td>48</td>\n",
       "    </tr>\n",
       "    <tr>\n",
       "      <th>4</th>\n",
       "      <td>5000</td>\n",
       "      <td>19</td>\n",
       "      <td>38</td>\n",
       "      <td>148</td>\n",
       "      <td>56</td>\n",
       "    </tr>\n",
       "    <tr>\n",
       "      <th>...</th>\n",
       "      <td>...</td>\n",
       "      <td>...</td>\n",
       "      <td>...</td>\n",
       "      <td>...</td>\n",
       "      <td>...</td>\n",
       "    </tr>\n",
       "    <tr>\n",
       "      <th>177</th>\n",
       "      <td>50000</td>\n",
       "      <td>36</td>\n",
       "      <td>72</td>\n",
       "      <td>352</td>\n",
       "      <td>101</td>\n",
       "    </tr>\n",
       "    <tr>\n",
       "      <th>178</th>\n",
       "      <td>50000</td>\n",
       "      <td>37</td>\n",
       "      <td>74</td>\n",
       "      <td>364</td>\n",
       "      <td>107</td>\n",
       "    </tr>\n",
       "    <tr>\n",
       "      <th>179</th>\n",
       "      <td>50000</td>\n",
       "      <td>38</td>\n",
       "      <td>76</td>\n",
       "      <td>376</td>\n",
       "      <td>114</td>\n",
       "    </tr>\n",
       "    <tr>\n",
       "      <th>180</th>\n",
       "      <td>50000</td>\n",
       "      <td>39</td>\n",
       "      <td>78</td>\n",
       "      <td>388</td>\n",
       "      <td>121</td>\n",
       "    </tr>\n",
       "    <tr>\n",
       "      <th>181</th>\n",
       "      <td>50000</td>\n",
       "      <td>40</td>\n",
       "      <td>80</td>\n",
       "      <td>400</td>\n",
       "      <td>128</td>\n",
       "    </tr>\n",
       "  </tbody>\n",
       "</table>\n",
       "<p>182 rows × 5 columns</p>\n",
       "</div>"
      ],
      "text/plain": [
       "      Area  Sensing Range  Transmission Range  Number of Sensor nodes  \\\n",
       "0     5000             15                  30                     100   \n",
       "1     5000             16                  32                     112   \n",
       "2     5000             17                  34                     124   \n",
       "3     5000             18                  36                     136   \n",
       "4     5000             19                  38                     148   \n",
       "..     ...            ...                 ...                     ...   \n",
       "177  50000             36                  72                     352   \n",
       "178  50000             37                  74                     364   \n",
       "179  50000             38                  76                     376   \n",
       "180  50000             39                  78                     388   \n",
       "181  50000             40                  80                     400   \n",
       "\n",
       "     Number of Barriers  \n",
       "0                    30  \n",
       "1                    35  \n",
       "2                    42  \n",
       "3                    48  \n",
       "4                    56  \n",
       "..                  ...  \n",
       "177                 101  \n",
       "178                 107  \n",
       "179                 114  \n",
       "180                 121  \n",
       "181                 128  \n",
       "\n",
       "[182 rows x 5 columns]"
      ]
     },
     "execution_count": 42,
     "metadata": {},
     "output_type": "execute_result"
    }
   ],
   "source": [
    "filepath = \"data.csv\"\n",
    "df = pd.read_csv(filepath)\n",
    "df"
   ]
  },
  {
   "cell_type": "code",
   "execution_count": 43,
   "id": "6c47a88c",
   "metadata": {},
   "outputs": [
    {
     "data": {
      "text/plain": [
       "Area   Sensing Range  Transmission Range  Number of Sensor nodes  Number of Barriers\n",
       "5000   15             30                  100                     30                    1\n",
       "30000  25             50                  220                     55                    1\n",
       "       27             54                  244                     65                    1\n",
       "       28             56                  256                     71                    1\n",
       "       29             58                  268                     77                    1\n",
       "                                                                                       ..\n",
       "15000  25             50                  220                     73                    1\n",
       "       26             52                  232                     80                    1\n",
       "       27             54                  244                     87                    1\n",
       "       28             56                  256                     95                    1\n",
       "50000  40             80                  400                     128                   1\n",
       "Length: 182, dtype: int64"
      ]
     },
     "execution_count": 43,
     "metadata": {},
     "output_type": "execute_result"
    }
   ],
   "source": [
    "df.value_counts()"
   ]
  },
  {
   "cell_type": "code",
   "execution_count": 44,
   "id": "97898a98",
   "metadata": {},
   "outputs": [],
   "source": [
    "DT = DecisionTreeClassifier()"
   ]
  },
  {
   "cell_type": "code",
   "execution_count": 45,
   "id": "ecb1e55d",
   "metadata": {},
   "outputs": [],
   "source": [
    "X = df[['Area','Sensing Range','Transmission Range','Number of Sensor nodes','Number of Barriers']]\n",
    "Y = df['Area']\n",
    "X_train, X_test, Y_train, Y_test = train_test_split(X, Y, random_state=10, test_size=0.2)"
   ]
  },
  {
   "cell_type": "code",
   "execution_count": 46,
   "id": "522333c8",
   "metadata": {},
   "outputs": [
    {
     "name": "stdout",
     "output_type": "stream",
     "text": [
      "program start...\n",
      "\n",
      "\n",
      "prediction:\n",
      "[39375 39375 15000 50000 15000 50000 21875  5000 39375 30000  9375  5000\n",
      " 15000 15000 15000 30000 21875 21875  5000 39375 30000  5000  9375 50000\n",
      " 30000 15000 21875 50000 30000 15000 15000 15000 39375 15000 30000 50000\n",
      "  5000]\n",
      "\n",
      "Score:\n",
      "1.0\n",
      "program end...\n",
      "\n",
      "time cost: \n",
      "0.020288467407226562 seconds\n"
     ]
    }
   ],
   "source": [
    "start = time.time()\n",
    "print('program start...')\n",
    "print()\n",
    "\n",
    "DT.fit(X_train, Y_train)\n",
    "print()\n",
    "\n",
    "print('prediction:')\n",
    "y_pred = DT.predict(X_test)\n",
    "print(y_pred)\n",
    "print()\n",
    "\n",
    "print('Score:')\n",
    "score = DT.score(X_test,Y_test)\n",
    "print(score)\n",
    "\n",
    "end = time.time()\n",
    "print('program end...')\n",
    "print()\n",
    "print('time cost: ')\n",
    "print(end - start, 'seconds')"
   ]
  },
  {
   "cell_type": "code",
   "execution_count": 47,
   "id": "ea4f9a43",
   "metadata": {},
   "outputs": [
    {
     "name": "stdout",
     "output_type": "stream",
     "text": [
      "Classification Report :\n",
      "              precision    recall  f1-score   support\n",
      "\n",
      "        5000       1.00      1.00      1.00         5\n",
      "        9375       1.00      1.00      1.00         2\n",
      "       15000       1.00      1.00      1.00        10\n",
      "       21875       1.00      1.00      1.00         4\n",
      "       30000       1.00      1.00      1.00         6\n",
      "       39375       1.00      1.00      1.00         5\n",
      "       50000       1.00      1.00      1.00         5\n",
      "\n",
      "    accuracy                           1.00        37\n",
      "   macro avg       1.00      1.00      1.00        37\n",
      "weighted avg       1.00      1.00      1.00        37\n",
      "\n"
     ]
    }
   ],
   "source": [
    "print(\"Classification Report :\")\n",
    "print(classification_report(Y_test, y_pred))"
   ]
  },
  {
   "cell_type": "markdown",
   "id": "a3299594",
   "metadata": {},
   "source": [
    "## 3) Naive Bayes"
   ]
  },
  {
   "cell_type": "code",
   "execution_count": 48,
   "id": "f5ecb5f4",
   "metadata": {},
   "outputs": [
    {
     "data": {
      "text/html": [
       "<div>\n",
       "<style scoped>\n",
       "    .dataframe tbody tr th:only-of-type {\n",
       "        vertical-align: middle;\n",
       "    }\n",
       "\n",
       "    .dataframe tbody tr th {\n",
       "        vertical-align: top;\n",
       "    }\n",
       "\n",
       "    .dataframe thead th {\n",
       "        text-align: right;\n",
       "    }\n",
       "</style>\n",
       "<table border=\"1\" class=\"dataframe\">\n",
       "  <thead>\n",
       "    <tr style=\"text-align: right;\">\n",
       "      <th></th>\n",
       "      <th>Area</th>\n",
       "      <th>Sensing Range</th>\n",
       "      <th>Transmission Range</th>\n",
       "      <th>Number of Sensor nodes</th>\n",
       "      <th>Number of Barriers</th>\n",
       "    </tr>\n",
       "  </thead>\n",
       "  <tbody>\n",
       "    <tr>\n",
       "      <th>0</th>\n",
       "      <td>5000</td>\n",
       "      <td>15</td>\n",
       "      <td>30</td>\n",
       "      <td>100</td>\n",
       "      <td>30</td>\n",
       "    </tr>\n",
       "    <tr>\n",
       "      <th>1</th>\n",
       "      <td>5000</td>\n",
       "      <td>16</td>\n",
       "      <td>32</td>\n",
       "      <td>112</td>\n",
       "      <td>35</td>\n",
       "    </tr>\n",
       "    <tr>\n",
       "      <th>2</th>\n",
       "      <td>5000</td>\n",
       "      <td>17</td>\n",
       "      <td>34</td>\n",
       "      <td>124</td>\n",
       "      <td>42</td>\n",
       "    </tr>\n",
       "    <tr>\n",
       "      <th>3</th>\n",
       "      <td>5000</td>\n",
       "      <td>18</td>\n",
       "      <td>36</td>\n",
       "      <td>136</td>\n",
       "      <td>48</td>\n",
       "    </tr>\n",
       "    <tr>\n",
       "      <th>4</th>\n",
       "      <td>5000</td>\n",
       "      <td>19</td>\n",
       "      <td>38</td>\n",
       "      <td>148</td>\n",
       "      <td>56</td>\n",
       "    </tr>\n",
       "    <tr>\n",
       "      <th>...</th>\n",
       "      <td>...</td>\n",
       "      <td>...</td>\n",
       "      <td>...</td>\n",
       "      <td>...</td>\n",
       "      <td>...</td>\n",
       "    </tr>\n",
       "    <tr>\n",
       "      <th>177</th>\n",
       "      <td>50000</td>\n",
       "      <td>36</td>\n",
       "      <td>72</td>\n",
       "      <td>352</td>\n",
       "      <td>101</td>\n",
       "    </tr>\n",
       "    <tr>\n",
       "      <th>178</th>\n",
       "      <td>50000</td>\n",
       "      <td>37</td>\n",
       "      <td>74</td>\n",
       "      <td>364</td>\n",
       "      <td>107</td>\n",
       "    </tr>\n",
       "    <tr>\n",
       "      <th>179</th>\n",
       "      <td>50000</td>\n",
       "      <td>38</td>\n",
       "      <td>76</td>\n",
       "      <td>376</td>\n",
       "      <td>114</td>\n",
       "    </tr>\n",
       "    <tr>\n",
       "      <th>180</th>\n",
       "      <td>50000</td>\n",
       "      <td>39</td>\n",
       "      <td>78</td>\n",
       "      <td>388</td>\n",
       "      <td>121</td>\n",
       "    </tr>\n",
       "    <tr>\n",
       "      <th>181</th>\n",
       "      <td>50000</td>\n",
       "      <td>40</td>\n",
       "      <td>80</td>\n",
       "      <td>400</td>\n",
       "      <td>128</td>\n",
       "    </tr>\n",
       "  </tbody>\n",
       "</table>\n",
       "<p>182 rows × 5 columns</p>\n",
       "</div>"
      ],
      "text/plain": [
       "      Area  Sensing Range  Transmission Range  Number of Sensor nodes  \\\n",
       "0     5000             15                  30                     100   \n",
       "1     5000             16                  32                     112   \n",
       "2     5000             17                  34                     124   \n",
       "3     5000             18                  36                     136   \n",
       "4     5000             19                  38                     148   \n",
       "..     ...            ...                 ...                     ...   \n",
       "177  50000             36                  72                     352   \n",
       "178  50000             37                  74                     364   \n",
       "179  50000             38                  76                     376   \n",
       "180  50000             39                  78                     388   \n",
       "181  50000             40                  80                     400   \n",
       "\n",
       "     Number of Barriers  \n",
       "0                    30  \n",
       "1                    35  \n",
       "2                    42  \n",
       "3                    48  \n",
       "4                    56  \n",
       "..                  ...  \n",
       "177                 101  \n",
       "178                 107  \n",
       "179                 114  \n",
       "180                 121  \n",
       "181                 128  \n",
       "\n",
       "[182 rows x 5 columns]"
      ]
     },
     "execution_count": 48,
     "metadata": {},
     "output_type": "execute_result"
    }
   ],
   "source": [
    "filepath = \"data.csv\"\n",
    "df = pd.read_csv(filepath)\n",
    "df"
   ]
  },
  {
   "cell_type": "code",
   "execution_count": 49,
   "id": "fa9f0dfe",
   "metadata": {},
   "outputs": [
    {
     "data": {
      "text/plain": [
       "(182, 5)"
      ]
     },
     "execution_count": 49,
     "metadata": {},
     "output_type": "execute_result"
    }
   ],
   "source": [
    "df.shape"
   ]
  },
  {
   "cell_type": "code",
   "execution_count": 50,
   "id": "b5e98c8f",
   "metadata": {},
   "outputs": [
    {
     "data": {
      "text/plain": [
       "Area   Sensing Range  Transmission Range  Number of Sensor nodes  Number of Barriers\n",
       "5000   15             30                  100                     30                    1\n",
       "30000  25             50                  220                     55                    1\n",
       "       27             54                  244                     65                    1\n",
       "       28             56                  256                     71                    1\n",
       "       29             58                  268                     77                    1\n",
       "                                                                                       ..\n",
       "15000  25             50                  220                     73                    1\n",
       "       26             52                  232                     80                    1\n",
       "       27             54                  244                     87                    1\n",
       "       28             56                  256                     95                    1\n",
       "50000  40             80                  400                     128                   1\n",
       "Length: 182, dtype: int64"
      ]
     },
     "execution_count": 50,
     "metadata": {},
     "output_type": "execute_result"
    }
   ],
   "source": [
    "df.value_counts()"
   ]
  },
  {
   "cell_type": "code",
   "execution_count": 51,
   "id": "f75f15e8",
   "metadata": {},
   "outputs": [
    {
     "name": "stdout",
     "output_type": "stream",
     "text": [
      "['Area', 'Sensing Range', 'Transmission Range', 'Number of Sensor nodes', 'Number of Barriers']\n"
     ]
    }
   ],
   "source": [
    "print(df.columns.tolist())"
   ]
  },
  {
   "cell_type": "code",
   "execution_count": 52,
   "id": "7895cd42",
   "metadata": {
    "jupyter": {
     "source_hidden": true
    }
   },
   "outputs": [],
   "source": [
    "X = df[['Area','Sensing Range','Transmission Range','Number of Sensor nodes','Number of Barriers']]\n",
    "Y = df['Area']"
   ]
  },
  {
   "cell_type": "code",
   "execution_count": 53,
   "id": "e4f4174b",
   "metadata": {},
   "outputs": [
    {
     "data": {
      "text/plain": [
       "array([[0.        , 0.        , 0.        , 0.        , 0.05844156],\n",
       "       [0.        , 0.04      , 0.04      , 0.04      , 0.07467532],\n",
       "       [0.        , 0.08      , 0.08      , 0.08      , 0.0974026 ],\n",
       "       [0.        , 0.12      , 0.12      , 0.12      , 0.11688312],\n",
       "       [0.        , 0.16      , 0.16      , 0.16      , 0.14285714],\n",
       "       [0.        , 0.2       , 0.2       , 0.2       , 0.16883117],\n",
       "       [0.        , 0.24      , 0.24      , 0.24      , 0.19480519],\n",
       "       [0.        , 0.28      , 0.28      , 0.28      , 0.22077922],\n",
       "       [0.        , 0.32      , 0.32      , 0.32      , 0.25324675],\n",
       "       [0.        , 0.36      , 0.36      , 0.36      , 0.28246753],\n",
       "       [0.        , 0.4       , 0.4       , 0.4       , 0.31818182],\n",
       "       [0.        , 0.44      , 0.44      , 0.44      , 0.35064935],\n",
       "       [0.        , 0.48      , 0.48      , 0.48      , 0.38636364],\n",
       "       [0.        , 0.52      , 0.52      , 0.52      , 0.42532468],\n",
       "       [0.        , 0.56      , 0.56      , 0.56      , 0.46428571],\n",
       "       [0.        , 0.6       , 0.6       , 0.6       , 0.50649351],\n",
       "       [0.        , 0.64      , 0.64      , 0.64      , 0.5487013 ],\n",
       "       [0.        , 0.68      , 0.68      , 0.68      , 0.59090909],\n",
       "       [0.        , 0.72      , 0.72      , 0.72      , 0.63636364],\n",
       "       [0.        , 0.76      , 0.76      , 0.76      , 0.68506494],\n",
       "       [0.        , 0.8       , 0.8       , 0.8       , 0.73376623],\n",
       "       [0.        , 0.84      , 0.84      , 0.84      , 0.78246753],\n",
       "       [0.        , 0.88      , 0.88      , 0.88      , 0.83441558],\n",
       "       [0.        , 0.92      , 0.92      , 0.92      , 0.88636364],\n",
       "       [0.        , 0.96      , 0.96      , 0.96      , 0.94155844],\n",
       "       [0.        , 1.        , 1.        , 1.        , 1.        ],\n",
       "       [0.09722222, 0.        , 0.        , 0.        , 0.03896104],\n",
       "       [0.09722222, 0.04      , 0.04      , 0.04      , 0.05194805],\n",
       "       [0.09722222, 0.08      , 0.08      , 0.08      , 0.06818182],\n",
       "       [0.09722222, 0.12      , 0.12      , 0.12      , 0.08766234],\n",
       "       [0.09722222, 0.16      , 0.16      , 0.16      , 0.1038961 ],\n",
       "       [0.09722222, 0.2       , 0.2       , 0.2       , 0.12662338],\n",
       "       [0.09722222, 0.24      , 0.24      , 0.24      , 0.1461039 ],\n",
       "       [0.09722222, 0.28      , 0.28      , 0.28      , 0.16883117],\n",
       "       [0.09722222, 0.32      , 0.32      , 0.32      , 0.19480519],\n",
       "       [0.09722222, 0.36      , 0.36      , 0.36      , 0.21753247],\n",
       "       [0.09722222, 0.4       , 0.4       , 0.4       , 0.24675325],\n",
       "       [0.09722222, 0.44      , 0.44      , 0.44      , 0.27272727],\n",
       "       [0.09722222, 0.48      , 0.48      , 0.48      , 0.30194805],\n",
       "       [0.09722222, 0.52      , 0.52      , 0.52      , 0.33116883],\n",
       "       [0.09722222, 0.56      , 0.56      , 0.56      , 0.36363636],\n",
       "       [0.09722222, 0.6       , 0.6       , 0.6       , 0.3961039 ],\n",
       "       [0.09722222, 0.64      , 0.64      , 0.64      , 0.42857143],\n",
       "       [0.09722222, 0.68      , 0.68      , 0.68      , 0.46428571],\n",
       "       [0.09722222, 0.72      , 0.72      , 0.72      , 0.5       ],\n",
       "       [0.09722222, 0.76      , 0.76      , 0.76      , 0.53896104],\n",
       "       [0.09722222, 0.8       , 0.8       , 0.8       , 0.57792208],\n",
       "       [0.09722222, 0.84      , 0.84      , 0.84      , 0.61688312],\n",
       "       [0.09722222, 0.88      , 0.88      , 0.88      , 0.65909091],\n",
       "       [0.09722222, 0.92      , 0.92      , 0.92      , 0.7012987 ],\n",
       "       [0.09722222, 0.96      , 0.96      , 0.96      , 0.74675325],\n",
       "       [0.09722222, 1.        , 1.        , 1.        , 0.79220779],\n",
       "       [0.22222222, 0.        , 0.        , 0.        , 0.02597403],\n",
       "       [0.22222222, 0.04      , 0.04      , 0.04      , 0.03571429],\n",
       "       [0.22222222, 0.08      , 0.08      , 0.08      , 0.05194805],\n",
       "       [0.22222222, 0.12      , 0.12      , 0.12      , 0.06493506],\n",
       "       [0.22222222, 0.16      , 0.16      , 0.16      , 0.08116883],\n",
       "       [0.22222222, 0.2       , 0.2       , 0.2       , 0.0974026 ],\n",
       "       [0.22222222, 0.24      , 0.24      , 0.24      , 0.11688312],\n",
       "       [0.22222222, 0.28      , 0.28      , 0.28      , 0.13311688],\n",
       "       [0.22222222, 0.32      , 0.32      , 0.32      , 0.15584416],\n",
       "       [0.22222222, 0.36      , 0.36      , 0.36      , 0.17532468],\n",
       "       [0.22222222, 0.4       , 0.4       , 0.4       , 0.19805195],\n",
       "       [0.22222222, 0.44      , 0.44      , 0.44      , 0.22077922],\n",
       "       [0.22222222, 0.48      , 0.48      , 0.48      , 0.24350649],\n",
       "       [0.22222222, 0.52      , 0.52      , 0.52      , 0.26948052],\n",
       "       [0.22222222, 0.56      , 0.56      , 0.56      , 0.29545455],\n",
       "       [0.22222222, 0.6       , 0.6       , 0.6       , 0.32467532],\n",
       "       [0.22222222, 0.64      , 0.64      , 0.64      , 0.35064935],\n",
       "       [0.22222222, 0.68      , 0.68      , 0.68      , 0.37987013],\n",
       "       [0.22222222, 0.72      , 0.72      , 0.72      , 0.41233766],\n",
       "       [0.22222222, 0.76      , 0.76      , 0.76      , 0.44155844],\n",
       "       [0.22222222, 0.8       , 0.8       , 0.8       , 0.47402597],\n",
       "       [0.22222222, 0.84      , 0.84      , 0.84      , 0.50649351],\n",
       "       [0.22222222, 0.88      , 0.88      , 0.88      , 0.54220779],\n",
       "       [0.22222222, 0.92      , 0.92      , 0.92      , 0.57792208],\n",
       "       [0.22222222, 0.96      , 0.96      , 0.96      , 0.61363636],\n",
       "       [0.22222222, 1.        , 1.        , 1.        , 0.6525974 ],\n",
       "       [0.375     , 0.        , 0.        , 0.        , 0.01623377],\n",
       "       [0.375     , 0.04      , 0.04      , 0.04      , 0.02597403],\n",
       "       [0.375     , 0.08      , 0.08      , 0.08      , 0.03896104],\n",
       "       [0.375     , 0.12      , 0.12      , 0.12      , 0.0487013 ],\n",
       "       [0.375     , 0.16      , 0.16      , 0.16      , 0.06493506],\n",
       "       [0.375     , 0.2       , 0.2       , 0.2       , 0.07792208],\n",
       "       [0.375     , 0.24      , 0.24      , 0.24      , 0.09415584],\n",
       "       [0.375     , 0.28      , 0.28      , 0.28      , 0.11038961],\n",
       "       [0.375     , 0.32      , 0.32      , 0.32      , 0.12662338],\n",
       "       [0.375     , 0.36      , 0.36      , 0.36      , 0.1461039 ],\n",
       "       [0.375     , 0.4       , 0.4       , 0.4       , 0.16233766],\n",
       "       [0.375     , 0.44      , 0.44      , 0.44      , 0.18181818],\n",
       "       [0.375     , 0.48      , 0.48      , 0.48      , 0.20454545],\n",
       "       [0.375     , 0.52      , 0.52      , 0.52      , 0.22402597],\n",
       "       [0.375     , 0.56      , 0.56      , 0.56      , 0.24675325],\n",
       "       [0.375     , 0.6       , 0.6       , 0.6       , 0.27272727],\n",
       "       [0.375     , 0.64      , 0.64      , 0.64      , 0.29545455],\n",
       "       [0.375     , 0.68      , 0.68      , 0.68      , 0.32142857],\n",
       "       [0.375     , 0.72      , 0.72      , 0.72      , 0.3474026 ],\n",
       "       [0.375     , 0.76      , 0.76      , 0.76      , 0.37337662],\n",
       "       [0.375     , 0.8       , 0.8       , 0.8       , 0.4025974 ],\n",
       "       [0.375     , 0.84      , 0.84      , 0.84      , 0.42857143],\n",
       "       [0.375     , 0.88      , 0.88      , 0.88      , 0.45779221],\n",
       "       [0.375     , 0.92      , 0.92      , 0.92      , 0.49025974],\n",
       "       [0.375     , 0.96      , 0.96      , 0.96      , 0.51948052],\n",
       "       [0.375     , 1.        , 1.        , 1.        , 0.55194805],\n",
       "       [0.55555556, 0.        , 0.        , 0.        , 0.00974026],\n",
       "       [0.55555556, 0.04      , 0.04      , 0.04      , 0.01623377],\n",
       "       [0.55555556, 0.08      , 0.08      , 0.08      , 0.02922078],\n",
       "       [0.55555556, 0.12      , 0.12      , 0.12      , 0.03896104],\n",
       "       [0.55555556, 0.16      , 0.16      , 0.16      , 0.05194805],\n",
       "       [0.55555556, 0.2       , 0.2       , 0.2       , 0.06493506],\n",
       "       [0.55555556, 0.24      , 0.24      , 0.24      , 0.07792208],\n",
       "       [0.55555556, 0.28      , 0.28      , 0.28      , 0.09090909],\n",
       "       [0.55555556, 0.32      , 0.32      , 0.32      , 0.10714286],\n",
       "       [0.55555556, 0.36      , 0.36      , 0.36      , 0.12012987],\n",
       "       [0.55555556, 0.4       , 0.4       , 0.4       , 0.13961039],\n",
       "       [0.55555556, 0.44      , 0.44      , 0.44      , 0.15584416],\n",
       "       [0.55555556, 0.48      , 0.48      , 0.48      , 0.17207792],\n",
       "       [0.55555556, 0.52      , 0.52      , 0.52      , 0.19155844],\n",
       "       [0.55555556, 0.56      , 0.56      , 0.56      , 0.21103896],\n",
       "       [0.55555556, 0.6       , 0.6       , 0.6       , 0.23376623],\n",
       "       [0.55555556, 0.64      , 0.64      , 0.64      , 0.25324675],\n",
       "       [0.55555556, 0.68      , 0.68      , 0.68      , 0.27597403],\n",
       "       [0.55555556, 0.72      , 0.72      , 0.72      , 0.2987013 ],\n",
       "       [0.55555556, 0.76      , 0.76      , 0.76      , 0.32142857],\n",
       "       [0.55555556, 0.8       , 0.8       , 0.8       , 0.3474026 ],\n",
       "       [0.55555556, 0.84      , 0.84      , 0.84      , 0.37012987],\n",
       "       [0.55555556, 0.88      , 0.88      , 0.88      , 0.3961039 ],\n",
       "       [0.55555556, 0.92      , 0.92      , 0.92      , 0.42207792],\n",
       "       [0.55555556, 0.96      , 0.96      , 0.96      , 0.4512987 ],\n",
       "       [0.55555556, 1.        , 1.        , 1.        , 0.48051948],\n",
       "       [0.76388889, 0.        , 0.        , 0.        , 0.00324675],\n",
       "       [0.76388889, 0.04      , 0.04      , 0.04      , 0.00974026],\n",
       "       [0.76388889, 0.08      , 0.08      , 0.08      , 0.01948052],\n",
       "       [0.76388889, 0.12      , 0.12      , 0.12      , 0.02922078],\n",
       "       [0.76388889, 0.16      , 0.16      , 0.16      , 0.03896104],\n",
       "       [0.76388889, 0.2       , 0.2       , 0.2       , 0.05194805],\n",
       "       [0.76388889, 0.24      , 0.24      , 0.24      , 0.06493506],\n",
       "       [0.76388889, 0.28      , 0.28      , 0.28      , 0.07467532],\n",
       "       [0.76388889, 0.32      , 0.32      , 0.32      , 0.09090909],\n",
       "       [0.76388889, 0.36      , 0.36      , 0.36      , 0.1038961 ],\n",
       "       [0.76388889, 0.4       , 0.4       , 0.4       , 0.11688312],\n",
       "       [0.76388889, 0.44      , 0.44      , 0.44      , 0.13311688],\n",
       "       [0.76388889, 0.48      , 0.48      , 0.48      , 0.14935065],\n",
       "       [0.76388889, 0.52      , 0.52      , 0.52      , 0.16558442],\n",
       "       [0.76388889, 0.56      , 0.56      , 0.56      , 0.18506494],\n",
       "       [0.76388889, 0.6       , 0.6       , 0.6       , 0.2012987 ],\n",
       "       [0.76388889, 0.64      , 0.64      , 0.64      , 0.22077922],\n",
       "       [0.76388889, 0.68      , 0.68      , 0.68      , 0.24025974],\n",
       "       [0.76388889, 0.72      , 0.72      , 0.72      , 0.25974026],\n",
       "       [0.76388889, 0.76      , 0.76      , 0.76      , 0.28246753],\n",
       "       [0.76388889, 0.8       , 0.8       , 0.8       , 0.30194805],\n",
       "       [0.76388889, 0.84      , 0.84      , 0.84      , 0.32467532],\n",
       "       [0.76388889, 0.88      , 0.88      , 0.88      , 0.3474026 ],\n",
       "       [0.76388889, 0.92      , 0.92      , 0.92      , 0.37337662],\n",
       "       [0.76388889, 0.96      , 0.96      , 0.96      , 0.3961039 ],\n",
       "       [0.76388889, 1.        , 1.        , 1.        , 0.42207792],\n",
       "       [1.        , 0.        , 0.        , 0.        , 0.        ],\n",
       "       [1.        , 0.04      , 0.04      , 0.04      , 0.        ],\n",
       "       [1.        , 0.08      , 0.08      , 0.08      , 0.01298701],\n",
       "       [1.        , 0.12      , 0.12      , 0.12      , 0.02272727],\n",
       "       [1.        , 0.16      , 0.16      , 0.16      , 0.03246753],\n",
       "       [1.        , 0.2       , 0.2       , 0.2       , 0.04220779],\n",
       "       [1.        , 0.24      , 0.24      , 0.24      , 0.05194805],\n",
       "       [1.        , 0.28      , 0.28      , 0.28      , 0.06493506],\n",
       "       [1.        , 0.32      , 0.32      , 0.32      , 0.07792208],\n",
       "       [1.        , 0.36      , 0.36      , 0.36      , 0.08766234],\n",
       "       [1.        , 0.4       , 0.4       , 0.4       , 0.1038961 ],\n",
       "       [1.        , 0.44      , 0.44      , 0.44      , 0.11688312],\n",
       "       [1.        , 0.48      , 0.48      , 0.48      , 0.12987013],\n",
       "       [1.        , 0.52      , 0.52      , 0.52      , 0.1461039 ],\n",
       "       [1.        , 0.56      , 0.56      , 0.56      , 0.16233766],\n",
       "       [1.        , 0.6       , 0.6       , 0.6       , 0.17857143],\n",
       "       [1.        , 0.64      , 0.64      , 0.64      , 0.19480519],\n",
       "       [1.        , 0.68      , 0.68      , 0.68      , 0.21103896],\n",
       "       [1.        , 0.72      , 0.72      , 0.72      , 0.23051948],\n",
       "       [1.        , 0.76      , 0.76      , 0.76      , 0.25      ],\n",
       "       [1.        , 0.8       , 0.8       , 0.8       , 0.26948052],\n",
       "       [1.        , 0.84      , 0.84      , 0.84      , 0.28896104],\n",
       "       [1.        , 0.88      , 0.88      , 0.88      , 0.30844156],\n",
       "       [1.        , 0.92      , 0.92      , 0.92      , 0.33116883],\n",
       "       [1.        , 0.96      , 0.96      , 0.96      , 0.3538961 ],\n",
       "       [1.        , 1.        , 1.        , 1.        , 0.37662338]])"
      ]
     },
     "execution_count": 53,
     "metadata": {},
     "output_type": "execute_result"
    }
   ],
   "source": [
    "scaler = MinMaxScaler()\n",
    "scaler.fit(X)\n",
    "normalized_x = scaler.transform(X)\n",
    "normalized_x"
   ]
  },
  {
   "cell_type": "code",
   "execution_count": 54,
   "id": "2a5e6de4",
   "metadata": {},
   "outputs": [],
   "source": [
    "X_train, X_test, Y_train, Y_test = train_test_split(normalized_x, Y, random_state=100, test_size=0.2)"
   ]
  },
  {
   "cell_type": "code",
   "execution_count": 55,
   "id": "6083b634",
   "metadata": {},
   "outputs": [
    {
     "data": {
      "text/html": [
       "<style>#sk-container-id-3 {color: black;}#sk-container-id-3 pre{padding: 0;}#sk-container-id-3 div.sk-toggleable {background-color: white;}#sk-container-id-3 label.sk-toggleable__label {cursor: pointer;display: block;width: 100%;margin-bottom: 0;padding: 0.3em;box-sizing: border-box;text-align: center;}#sk-container-id-3 label.sk-toggleable__label-arrow:before {content: \"▸\";float: left;margin-right: 0.25em;color: #696969;}#sk-container-id-3 label.sk-toggleable__label-arrow:hover:before {color: black;}#sk-container-id-3 div.sk-estimator:hover label.sk-toggleable__label-arrow:before {color: black;}#sk-container-id-3 div.sk-toggleable__content {max-height: 0;max-width: 0;overflow: hidden;text-align: left;background-color: #f0f8ff;}#sk-container-id-3 div.sk-toggleable__content pre {margin: 0.2em;color: black;border-radius: 0.25em;background-color: #f0f8ff;}#sk-container-id-3 input.sk-toggleable__control:checked~div.sk-toggleable__content {max-height: 200px;max-width: 100%;overflow: auto;}#sk-container-id-3 input.sk-toggleable__control:checked~label.sk-toggleable__label-arrow:before {content: \"▾\";}#sk-container-id-3 div.sk-estimator input.sk-toggleable__control:checked~label.sk-toggleable__label {background-color: #d4ebff;}#sk-container-id-3 div.sk-label input.sk-toggleable__control:checked~label.sk-toggleable__label {background-color: #d4ebff;}#sk-container-id-3 input.sk-hidden--visually {border: 0;clip: rect(1px 1px 1px 1px);clip: rect(1px, 1px, 1px, 1px);height: 1px;margin: -1px;overflow: hidden;padding: 0;position: absolute;width: 1px;}#sk-container-id-3 div.sk-estimator {font-family: monospace;background-color: #f0f8ff;border: 1px dotted black;border-radius: 0.25em;box-sizing: border-box;margin-bottom: 0.5em;}#sk-container-id-3 div.sk-estimator:hover {background-color: #d4ebff;}#sk-container-id-3 div.sk-parallel-item::after {content: \"\";width: 100%;border-bottom: 1px solid gray;flex-grow: 1;}#sk-container-id-3 div.sk-label:hover label.sk-toggleable__label {background-color: #d4ebff;}#sk-container-id-3 div.sk-serial::before {content: \"\";position: absolute;border-left: 1px solid gray;box-sizing: border-box;top: 0;bottom: 0;left: 50%;z-index: 0;}#sk-container-id-3 div.sk-serial {display: flex;flex-direction: column;align-items: center;background-color: white;padding-right: 0.2em;padding-left: 0.2em;position: relative;}#sk-container-id-3 div.sk-item {position: relative;z-index: 1;}#sk-container-id-3 div.sk-parallel {display: flex;align-items: stretch;justify-content: center;background-color: white;position: relative;}#sk-container-id-3 div.sk-item::before, #sk-container-id-3 div.sk-parallel-item::before {content: \"\";position: absolute;border-left: 1px solid gray;box-sizing: border-box;top: 0;bottom: 0;left: 50%;z-index: -1;}#sk-container-id-3 div.sk-parallel-item {display: flex;flex-direction: column;z-index: 1;position: relative;background-color: white;}#sk-container-id-3 div.sk-parallel-item:first-child::after {align-self: flex-end;width: 50%;}#sk-container-id-3 div.sk-parallel-item:last-child::after {align-self: flex-start;width: 50%;}#sk-container-id-3 div.sk-parallel-item:only-child::after {width: 0;}#sk-container-id-3 div.sk-dashed-wrapped {border: 1px dashed gray;margin: 0 0.4em 0.5em 0.4em;box-sizing: border-box;padding-bottom: 0.4em;background-color: white;}#sk-container-id-3 div.sk-label label {font-family: monospace;font-weight: bold;display: inline-block;line-height: 1.2em;}#sk-container-id-3 div.sk-label-container {text-align: center;}#sk-container-id-3 div.sk-container {/* jupyter's `normalize.less` sets `[hidden] { display: none; }` but bootstrap.min.css set `[hidden] { display: none !important; }` so we also need the `!important` here to be able to override the default hidden behavior on the sphinx rendered scikit-learn.org. See: https://github.com/scikit-learn/scikit-learn/issues/21755 */display: inline-block !important;position: relative;}#sk-container-id-3 div.sk-text-repr-fallback {display: none;}</style><div id=\"sk-container-id-3\" class=\"sk-top-container\"><div class=\"sk-text-repr-fallback\"><pre>GaussianNB()</pre><b>In a Jupyter environment, please rerun this cell to show the HTML representation or trust the notebook. <br />On GitHub, the HTML representation is unable to render, please try loading this page with nbviewer.org.</b></div><div class=\"sk-container\" hidden><div class=\"sk-item\"><div class=\"sk-estimator sk-toggleable\"><input class=\"sk-toggleable__control sk-hidden--visually\" id=\"sk-estimator-id-3\" type=\"checkbox\" checked><label for=\"sk-estimator-id-3\" class=\"sk-toggleable__label sk-toggleable__label-arrow\">GaussianNB</label><div class=\"sk-toggleable__content\"><pre>GaussianNB()</pre></div></div></div></div></div>"
      ],
      "text/plain": [
       "GaussianNB()"
      ]
     },
     "execution_count": 55,
     "metadata": {},
     "output_type": "execute_result"
    }
   ],
   "source": [
    "clf = GaussianNB()\n",
    "clf.fit(X_train, Y_train)"
   ]
  },
  {
   "cell_type": "code",
   "execution_count": 56,
   "id": "5aeef8ee",
   "metadata": {},
   "outputs": [
    {
     "name": "stdout",
     "output_type": "stream",
     "text": [
      "program start...\n",
      "\n",
      "\n",
      "1.0\n",
      "\n",
      "[ 5000 50000  5000 15000  9375 15000 50000 39375  9375 50000 30000 21875\n",
      " 15000 50000 39375 39375 15000 21875  5000  9375 21875 15000 39375 21875\n",
      " 21875 21875  5000 39375 30000 39375 39375 21875 50000  9375 39375 21875\n",
      " 50000]\n",
      "\n",
      "program end...\n",
      "\n",
      "time cost: \n",
      "0.0060024261474609375 seconds\n"
     ]
    }
   ],
   "source": [
    "start = time.time()\n",
    "print('program start...')\n",
    "print()\n",
    "\n",
    "clf = GaussianNB().fit(X_train, Y_train)\n",
    "print()\n",
    "print(clf.score(X_test, Y_test))\n",
    "print()\n",
    "\n",
    "y_pred = clf.fit(X_train, Y_train).predict(X_test)\n",
    "print(y_pred)\n",
    "print()\n",
    "\n",
    "end = time.time()\n",
    "print('program end...')\n",
    "print()\n",
    "print('time cost: ')\n",
    "print(end - start, 'seconds')"
   ]
  },
  {
   "cell_type": "code",
   "execution_count": 57,
   "id": "a26e4c92",
   "metadata": {},
   "outputs": [
    {
     "name": "stdout",
     "output_type": "stream",
     "text": [
      "Classification Report :\n",
      "              precision    recall  f1-score   support\n",
      "\n",
      "        5000       1.00      1.00      1.00         4\n",
      "        9375       1.00      1.00      1.00         4\n",
      "       15000       1.00      1.00      1.00         5\n",
      "       21875       1.00      1.00      1.00         8\n",
      "       30000       1.00      1.00      1.00         2\n",
      "       39375       1.00      1.00      1.00         8\n",
      "       50000       1.00      1.00      1.00         6\n",
      "\n",
      "    accuracy                           1.00        37\n",
      "   macro avg       1.00      1.00      1.00        37\n",
      "weighted avg       1.00      1.00      1.00        37\n",
      "\n"
     ]
    }
   ],
   "source": [
    "print(\"Classification Report :\")\n",
    "print(classification_report(Y_test, y_pred))"
   ]
  },
  {
   "cell_type": "markdown",
   "id": "0155f6e2",
   "metadata": {},
   "source": [
    "## 4) SVM(Support Vector Machine)"
   ]
  },
  {
   "cell_type": "code",
   "execution_count": 58,
   "id": "fd3457cc",
   "metadata": {},
   "outputs": [
    {
     "data": {
      "text/html": [
       "<div>\n",
       "<style scoped>\n",
       "    .dataframe tbody tr th:only-of-type {\n",
       "        vertical-align: middle;\n",
       "    }\n",
       "\n",
       "    .dataframe tbody tr th {\n",
       "        vertical-align: top;\n",
       "    }\n",
       "\n",
       "    .dataframe thead th {\n",
       "        text-align: right;\n",
       "    }\n",
       "</style>\n",
       "<table border=\"1\" class=\"dataframe\">\n",
       "  <thead>\n",
       "    <tr style=\"text-align: right;\">\n",
       "      <th></th>\n",
       "      <th>Area</th>\n",
       "      <th>Sensing Range</th>\n",
       "      <th>Transmission Range</th>\n",
       "      <th>Number of Sensor nodes</th>\n",
       "      <th>Number of Barriers</th>\n",
       "    </tr>\n",
       "  </thead>\n",
       "  <tbody>\n",
       "    <tr>\n",
       "      <th>0</th>\n",
       "      <td>5000</td>\n",
       "      <td>15</td>\n",
       "      <td>30</td>\n",
       "      <td>100</td>\n",
       "      <td>30</td>\n",
       "    </tr>\n",
       "    <tr>\n",
       "      <th>1</th>\n",
       "      <td>5000</td>\n",
       "      <td>16</td>\n",
       "      <td>32</td>\n",
       "      <td>112</td>\n",
       "      <td>35</td>\n",
       "    </tr>\n",
       "    <tr>\n",
       "      <th>2</th>\n",
       "      <td>5000</td>\n",
       "      <td>17</td>\n",
       "      <td>34</td>\n",
       "      <td>124</td>\n",
       "      <td>42</td>\n",
       "    </tr>\n",
       "    <tr>\n",
       "      <th>3</th>\n",
       "      <td>5000</td>\n",
       "      <td>18</td>\n",
       "      <td>36</td>\n",
       "      <td>136</td>\n",
       "      <td>48</td>\n",
       "    </tr>\n",
       "    <tr>\n",
       "      <th>4</th>\n",
       "      <td>5000</td>\n",
       "      <td>19</td>\n",
       "      <td>38</td>\n",
       "      <td>148</td>\n",
       "      <td>56</td>\n",
       "    </tr>\n",
       "    <tr>\n",
       "      <th>...</th>\n",
       "      <td>...</td>\n",
       "      <td>...</td>\n",
       "      <td>...</td>\n",
       "      <td>...</td>\n",
       "      <td>...</td>\n",
       "    </tr>\n",
       "    <tr>\n",
       "      <th>177</th>\n",
       "      <td>50000</td>\n",
       "      <td>36</td>\n",
       "      <td>72</td>\n",
       "      <td>352</td>\n",
       "      <td>101</td>\n",
       "    </tr>\n",
       "    <tr>\n",
       "      <th>178</th>\n",
       "      <td>50000</td>\n",
       "      <td>37</td>\n",
       "      <td>74</td>\n",
       "      <td>364</td>\n",
       "      <td>107</td>\n",
       "    </tr>\n",
       "    <tr>\n",
       "      <th>179</th>\n",
       "      <td>50000</td>\n",
       "      <td>38</td>\n",
       "      <td>76</td>\n",
       "      <td>376</td>\n",
       "      <td>114</td>\n",
       "    </tr>\n",
       "    <tr>\n",
       "      <th>180</th>\n",
       "      <td>50000</td>\n",
       "      <td>39</td>\n",
       "      <td>78</td>\n",
       "      <td>388</td>\n",
       "      <td>121</td>\n",
       "    </tr>\n",
       "    <tr>\n",
       "      <th>181</th>\n",
       "      <td>50000</td>\n",
       "      <td>40</td>\n",
       "      <td>80</td>\n",
       "      <td>400</td>\n",
       "      <td>128</td>\n",
       "    </tr>\n",
       "  </tbody>\n",
       "</table>\n",
       "<p>182 rows × 5 columns</p>\n",
       "</div>"
      ],
      "text/plain": [
       "      Area  Sensing Range  Transmission Range  Number of Sensor nodes  \\\n",
       "0     5000             15                  30                     100   \n",
       "1     5000             16                  32                     112   \n",
       "2     5000             17                  34                     124   \n",
       "3     5000             18                  36                     136   \n",
       "4     5000             19                  38                     148   \n",
       "..     ...            ...                 ...                     ...   \n",
       "177  50000             36                  72                     352   \n",
       "178  50000             37                  74                     364   \n",
       "179  50000             38                  76                     376   \n",
       "180  50000             39                  78                     388   \n",
       "181  50000             40                  80                     400   \n",
       "\n",
       "     Number of Barriers  \n",
       "0                    30  \n",
       "1                    35  \n",
       "2                    42  \n",
       "3                    48  \n",
       "4                    56  \n",
       "..                  ...  \n",
       "177                 101  \n",
       "178                 107  \n",
       "179                 114  \n",
       "180                 121  \n",
       "181                 128  \n",
       "\n",
       "[182 rows x 5 columns]"
      ]
     },
     "execution_count": 58,
     "metadata": {},
     "output_type": "execute_result"
    }
   ],
   "source": [
    "filepath = \"data.csv\"\n",
    "df = pd.read_csv(filepath)\n",
    "df"
   ]
  },
  {
   "cell_type": "code",
   "execution_count": 59,
   "id": "a4bfc3a1",
   "metadata": {},
   "outputs": [
    {
     "data": {
      "text/plain": [
       "(182, 5)"
      ]
     },
     "execution_count": 59,
     "metadata": {},
     "output_type": "execute_result"
    }
   ],
   "source": [
    "df.shape"
   ]
  },
  {
   "cell_type": "code",
   "execution_count": 60,
   "id": "0c0b94c4",
   "metadata": {},
   "outputs": [
    {
     "data": {
      "text/plain": [
       "Area   Sensing Range  Transmission Range  Number of Sensor nodes  Number of Barriers\n",
       "5000   15             30                  100                     30                    1\n",
       "30000  25             50                  220                     55                    1\n",
       "       27             54                  244                     65                    1\n",
       "       28             56                  256                     71                    1\n",
       "       29             58                  268                     77                    1\n",
       "                                                                                       ..\n",
       "15000  25             50                  220                     73                    1\n",
       "       26             52                  232                     80                    1\n",
       "       27             54                  244                     87                    1\n",
       "       28             56                  256                     95                    1\n",
       "50000  40             80                  400                     128                   1\n",
       "Length: 182, dtype: int64"
      ]
     },
     "execution_count": 60,
     "metadata": {},
     "output_type": "execute_result"
    }
   ],
   "source": [
    "df.value_counts()"
   ]
  },
  {
   "cell_type": "code",
   "execution_count": 61,
   "id": "18a83fef",
   "metadata": {},
   "outputs": [],
   "source": [
    "X = df[['Area','Sensing Range','Transmission Range','Number of Sensor nodes','Number of Barriers']]\n",
    "Y = df['Area']"
   ]
  },
  {
   "cell_type": "code",
   "execution_count": 62,
   "id": "ca41a468",
   "metadata": {},
   "outputs": [],
   "source": [
    "SVM_classifier = SVC()\n",
    "X_train, X_test, Y_train, Y_test = train_test_split(X, Y, random_state=10, test_size=0.2)"
   ]
  },
  {
   "cell_type": "code",
   "execution_count": 63,
   "id": "23477e76",
   "metadata": {},
   "outputs": [
    {
     "name": "stdout",
     "output_type": "stream",
     "text": [
      "program start...\n",
      "\n",
      "[LibSVM]\n",
      "1.0\n",
      "\n",
      "[39375 39375 15000 50000 15000 50000 21875  5000 39375 30000  9375  5000\n",
      " 15000 15000 15000 30000 21875 21875  5000 39375 30000  5000  9375 50000\n",
      " 30000 15000 21875 50000 30000 15000 15000 15000 39375 15000 30000 50000\n",
      "  5000]\n",
      "\n",
      "program end...\n",
      "\n",
      "time cost: \n",
      "0.023894548416137695 seconds\n"
     ]
    }
   ],
   "source": [
    "start = time.time()\n",
    "print('program start...')\n",
    "print()\n",
    "\n",
    "SVM_classifier = SVC(C=1.0, cache_size=1500, verbose=True).fit(X_train, Y_train)\n",
    "print()\n",
    "print(SVM_classifier.score(X_test, Y_test))\n",
    "print()\n",
    "\n",
    "y_pred = SVM_classifier.predict(X_test)\n",
    "print(y_pred)\n",
    "print()\n",
    "\n",
    "end = time.time()\n",
    "print('program end...')\n",
    "print()\n",
    "print('time cost: ')\n",
    "print(end - start, 'seconds')"
   ]
  },
  {
   "cell_type": "code",
   "execution_count": 64,
   "id": "80f02290",
   "metadata": {},
   "outputs": [
    {
     "name": "stdout",
     "output_type": "stream",
     "text": [
      "Classification Report :\n",
      "              precision    recall  f1-score   support\n",
      "\n",
      "        5000       1.00      1.00      1.00         5\n",
      "        9375       1.00      1.00      1.00         2\n",
      "       15000       1.00      1.00      1.00        10\n",
      "       21875       1.00      1.00      1.00         4\n",
      "       30000       1.00      1.00      1.00         6\n",
      "       39375       1.00      1.00      1.00         5\n",
      "       50000       1.00      1.00      1.00         5\n",
      "\n",
      "    accuracy                           1.00        37\n",
      "   macro avg       1.00      1.00      1.00        37\n",
      "weighted avg       1.00      1.00      1.00        37\n",
      "\n"
     ]
    }
   ],
   "source": [
    "print(\"Classification Report :\")\n",
    "print(classification_report(Y_test, y_pred))"
   ]
  },
  {
   "cell_type": "markdown",
   "id": "849428fb-3bcf-4d23-8ea9-91638b62f3d4",
   "metadata": {},
   "source": [
    "# Predicting Anomalies"
   ]
  },
  {
   "cell_type": "code",
   "execution_count": 68,
   "id": "ac943bd9",
   "metadata": {
    "scrolled": true
   },
   "outputs": [
    {
     "name": "stdout",
     "output_type": "stream",
     "text": [
      "Number of anomalies detected: 19\n",
      "      Area  Sensing Range  Transmission Range  Number of Sensor nodes  \\\n",
      "0     5000             15                  30                     100   \n",
      "22    5000             37                  74                     364   \n",
      "23    5000             38                  76                     376   \n",
      "24    5000             39                  78                     388   \n",
      "25    5000             40                  80                     400   \n",
      "26    9375             15                  30                     100   \n",
      "51    9375             40                  80                     400   \n",
      "52   15000             15                  30                     100   \n",
      "77   15000             40                  80                     400   \n",
      "103  21875             40                  80                     400   \n",
      "104  30000             15                  30                     100   \n",
      "129  30000             40                  80                     400   \n",
      "130  39375             15                  30                     100   \n",
      "155  39375             40                  80                     400   \n",
      "156  50000             15                  30                     100   \n",
      "157  50000             16                  32                     112   \n",
      "158  50000             17                  34                     124   \n",
      "180  50000             39                  78                     388   \n",
      "181  50000             40                  80                     400   \n",
      "\n",
      "     Number of Barriers  anomaly  \n",
      "0                    30     True  \n",
      "22                  269     True  \n",
      "23                  285     True  \n",
      "24                  302     True  \n",
      "25                  320     True  \n",
      "26                   24     True  \n",
      "51                  256     True  \n",
      "52                   20     True  \n",
      "77                  213     True  \n",
      "103                 182     True  \n",
      "104                  15     True  \n",
      "129                 160     True  \n",
      "130                  13     True  \n",
      "155                 142     True  \n",
      "156                  12     True  \n",
      "157                  12     True  \n",
      "158                  16     True  \n",
      "180                 121     True  \n",
      "181                 128     True  \n"
     ]
    }
   ],
   "source": [
    "df = pd.read_csv(\"data.csv\")\n",
    "features = ['Area', 'Sensing Range', 'Transmission Range', 'Number of Barriers']\n",
    "scaler = StandardScaler()\n",
    "X_scaled = scaler.fit_transform(df[features])\n",
    "model = IsolationForest(contamination=0.1, random_state=42)\n",
    "model.fit(X_scaled)\n",
    "\n",
    "df['anomaly'] = model.predict(X_scaled)\n",
    "df['anomaly'] = df['anomaly'] == -1\n",
    "num_anomalies = df['anomaly'].sum()\n",
    "print(f\"Number of anomalies detected: {num_anomalies}\")\n",
    "anomalies = df[df['anomaly']]\n",
    "print(anomalies)"
   ]
  },
  {
   "cell_type": "markdown",
   "id": "628571f4-faf9-4650-9713-4656b65e414f",
   "metadata": {},
   "source": [
    "## Count number of Anomalies"
   ]
  },
  {
   "cell_type": "code",
   "execution_count": 69,
   "id": "4295c712-232d-4f74-b9fc-78f0d7baa394",
   "metadata": {},
   "outputs": [
    {
     "name": "stdout",
     "output_type": "stream",
     "text": [
      "Anomaly counts:\n",
      " False    163\n",
      "True      19\n",
      "Name: anomaly, dtype: int64\n"
     ]
    }
   ],
   "source": [
    "df['anomaly'] = model.predict(X_scaled)\n",
    "df['anomaly'] = df['anomaly'] == -1  \n",
    "anomaly_counts = df['anomaly'].value_counts()\n",
    "print(\"Anomaly counts:\\n\", anomaly_counts)"
   ]
  },
  {
   "cell_type": "markdown",
   "id": "2a8a95dc-944c-486a-b7c9-e4947cfca6ea",
   "metadata": {},
   "source": [
    "## Random values for predicting Anomalies"
   ]
  },
  {
   "cell_type": "code",
   "execution_count": 70,
   "id": "04969cb5-ae09-45f1-8bee-64aed2adb5a7",
   "metadata": {},
   "outputs": [
    {
     "name": "stdout",
     "output_type": "stream",
     "text": [
      "Random data point: {'Area': 407, 'Sensing Range': 61, 'Transmission Range': 34, 'Number of Sensor nodes': 26, 'Number of Barriers': 2}\n",
      "Is the random data point an anomaly? Yes\n"
     ]
    }
   ],
   "source": [
    "df['anomaly'] = model.predict(X_scaled)\n",
    "df['anomaly'] = df['anomaly'] == -1  \n",
    "random_data = {\n",
    "    'Area': np.random.randint(50, 500),\n",
    "    'Sensing Range': np.random.randint(10, 100),\n",
    "    'Transmission Range': np.random.randint(20, 150),\n",
    "    'Number of Sensor nodes': np.random.randint(5, 50),\n",
    "    'Number of Barriers': np.random.randint(1, 10)\n",
    "}\n",
    "\n",
    "random_df = pd.DataFrame([random_data])\n",
    "random_scaled = scaler.transform(random_df[features])\n",
    "random_anomaly_prediction = model.predict(random_scaled)\n",
    "is_anomaly = random_anomaly_prediction[0] == -1\n",
    "\n",
    "print(f\"Random data point: {random_data}\")\n",
    "print(f\"Is the random data point an anomaly? {'Yes' if is_anomaly else 'No'}\")"
   ]
  },
  {
   "cell_type": "markdown",
   "id": "510dfed8-d298-4581-a7bb-76e09f5a7b80",
   "metadata": {},
   "source": [
    "## User Input to predict Anomalies"
   ]
  },
  {
   "cell_type": "code",
   "execution_count": 71,
   "id": "79fd91c6-5715-4375-9aa8-9eaeb99bddd3",
   "metadata": {},
   "outputs": [
    {
     "name": "stdin",
     "output_type": "stream",
     "text": [
      "Enter Area:  24\n",
      "Enter Sensing Range:  435\n",
      "Enter Transmission Range:  45\n",
      "Enter Number of Barriers:  5\n"
     ]
    },
    {
     "name": "stdout",
     "output_type": "stream",
     "text": [
      "User data point: {'Area': 24, 'Sensing Range': 435, 'Transmission Range': 45, 'Number of Barriers': 5}\n",
      "Is the user data point an anomaly? Yes\n"
     ]
    }
   ],
   "source": [
    "def get_user_input():\n",
    "    user_data = {}\n",
    "    user_data['Area'] = int(input(\"Enter Area: \"))\n",
    "    user_data['Sensing Range'] = int(input(\"Enter Sensing Range: \"))\n",
    "    user_data['Transmission Range'] = int(input(\"Enter Transmission Range: \"))\n",
    "    user_data['Number of Barriers'] = int(input(\"Enter Number of Barriers: \"))\n",
    "    return user_data\n",
    "\n",
    "user_data = get_user_input()\n",
    "user_df = pd.DataFrame([user_data])\n",
    "user_scaled = scaler.transform(user_df[features])\n",
    "user_anomaly_prediction = model.predict(user_scaled)\n",
    "is_anomaly = user_anomaly_prediction[0] == -1\n",
    "\n",
    "print(f\"User data point: {user_data}\")\n",
    "print(f\"Is the user data point an anomaly? {'Yes' if is_anomaly else 'No'}\")"
   ]
  },
  {
   "cell_type": "markdown",
   "id": "6c4c17f0-8278-48a5-9ea1-f3c7aa923bcd",
   "metadata": {},
   "source": [
    "## GUI interface for predict Anomalies"
   ]
  },
  {
   "cell_type": "code",
   "execution_count": 72,
   "id": "d6197042-e2d4-486d-b09a-a451776265e3",
   "metadata": {},
   "outputs": [],
   "source": [
    "def predict_anomaly():\n",
    "    try:\n",
    "        user_data = {\n",
    "            'Area': int(area_entry.get()),\n",
    "            'Sensing Range': int(sensing_range_entry.get()),\n",
    "            'Transmission Range': int(transmission_range_entry.get()),\n",
    "            'Number of Barriers': int(barriers_entry.get())\n",
    "        }\n",
    "        \n",
    "        user_df = pd.DataFrame([user_data])\n",
    "        user_scaled = scaler.transform(user_df[features])\n",
    "        user_anomaly_prediction = model.predict(user_scaled)\n",
    "        is_anomaly = user_anomaly_prediction[0] == -1\n",
    "        \n",
    "        result = f\"Is the user data point an anomaly? {'Yes' if is_anomaly else 'No'}\"\n",
    "        messagebox.showinfo(\"Anomaly Prediction Result\", result)\n",
    "    \n",
    "    except ValueError:\n",
    "        messagebox.showerror(\"Input Error\", \"Please enter valid integer values.\")\n",
    "\n",
    "root = tk.Tk()\n",
    "root.title(\"Anomaly Detection\")\n",
    "tk.Label(root, text=\"Area\").grid(row=0)\n",
    "tk.Label(root, text=\"Sensing Range\").grid(row=1)\n",
    "tk.Label(root, text=\"Transmission Range\").grid(row=2)\n",
    "tk.Label(root, text=\"Number of Barriers\").grid(row=3)\n",
    "area_entry = tk.Entry(root)\n",
    "sensing_range_entry = tk.Entry(root)\n",
    "transmission_range_entry = tk.Entry(root)\n",
    "barriers_entry = tk.Entry(root)\n",
    "area_entry.grid(row=0, column=1)\n",
    "sensing_range_entry.grid(row=1, column=1)\n",
    "transmission_range_entry.grid(row=2, column=1)\n",
    "barriers_entry.grid(row=3, column=1)\n",
    "submit_button = tk.Button(root, text=\"Submit\", command=predict_anomaly)\n",
    "submit_button.grid(row=4, columnspan=2)\n",
    "\n",
    "root.mainloop()"
   ]
  },
  {
   "cell_type": "markdown",
   "id": "6b2d05e8-55ba-4c6e-a824-dc479b6c413e",
   "metadata": {},
   "source": [
    "## Confusion Metrix Check"
   ]
  },
  {
   "cell_type": "code",
   "execution_count": 73,
   "id": "c380521a-d4fe-45ae-aa64-bd37b051f223",
   "metadata": {},
   "outputs": [
    {
     "name": "stdout",
     "output_type": "stream",
     "text": [
      "DataFrame saved to updated_data.xlsx\n"
     ]
    }
   ],
   "source": [
    "df = pd.read_csv(\"data.csv\")\n",
    "\n",
    "# Creating a new binary feature (example: 'Feature_New') based on a condition\n",
    "df['Feature_New'] = np.random.randint(0, 2, size=len(df))  # Example: Random 0s and 1s\n",
    "\n",
    "# Writing the DataFrame to an Excel file\n",
    "excel_file_path = 'updated_data.xlsx'\n",
    "df.to_excel(excel_file_path, index=False)\n",
    "\n",
    "print(f\"DataFrame saved to {excel_file_path}\")\n"
   ]
  },
  {
   "cell_type": "code",
   "execution_count": 74,
   "id": "f1d70caa-77e4-4a6d-a116-2d8876c9bc00",
   "metadata": {},
   "outputs": [
    {
     "data": {
      "text/html": [
       "<div>\n",
       "<style scoped>\n",
       "    .dataframe tbody tr th:only-of-type {\n",
       "        vertical-align: middle;\n",
       "    }\n",
       "\n",
       "    .dataframe tbody tr th {\n",
       "        vertical-align: top;\n",
       "    }\n",
       "\n",
       "    .dataframe thead th {\n",
       "        text-align: right;\n",
       "    }\n",
       "</style>\n",
       "<table border=\"1\" class=\"dataframe\">\n",
       "  <thead>\n",
       "    <tr style=\"text-align: right;\">\n",
       "      <th></th>\n",
       "      <th>Area</th>\n",
       "      <th>Sensing Range</th>\n",
       "      <th>Transmission Range</th>\n",
       "      <th>Number of Sensor nodes</th>\n",
       "      <th>Number of Barriers</th>\n",
       "      <th>Feature_New</th>\n",
       "    </tr>\n",
       "  </thead>\n",
       "  <tbody>\n",
       "    <tr>\n",
       "      <th>0</th>\n",
       "      <td>5000</td>\n",
       "      <td>15</td>\n",
       "      <td>30</td>\n",
       "      <td>100</td>\n",
       "      <td>30</td>\n",
       "      <td>1</td>\n",
       "    </tr>\n",
       "    <tr>\n",
       "      <th>1</th>\n",
       "      <td>5000</td>\n",
       "      <td>16</td>\n",
       "      <td>32</td>\n",
       "      <td>112</td>\n",
       "      <td>35</td>\n",
       "      <td>0</td>\n",
       "    </tr>\n",
       "    <tr>\n",
       "      <th>2</th>\n",
       "      <td>5000</td>\n",
       "      <td>17</td>\n",
       "      <td>34</td>\n",
       "      <td>124</td>\n",
       "      <td>42</td>\n",
       "      <td>0</td>\n",
       "    </tr>\n",
       "    <tr>\n",
       "      <th>3</th>\n",
       "      <td>5000</td>\n",
       "      <td>18</td>\n",
       "      <td>36</td>\n",
       "      <td>136</td>\n",
       "      <td>48</td>\n",
       "      <td>0</td>\n",
       "    </tr>\n",
       "    <tr>\n",
       "      <th>4</th>\n",
       "      <td>5000</td>\n",
       "      <td>19</td>\n",
       "      <td>38</td>\n",
       "      <td>148</td>\n",
       "      <td>56</td>\n",
       "      <td>1</td>\n",
       "    </tr>\n",
       "    <tr>\n",
       "      <th>...</th>\n",
       "      <td>...</td>\n",
       "      <td>...</td>\n",
       "      <td>...</td>\n",
       "      <td>...</td>\n",
       "      <td>...</td>\n",
       "      <td>...</td>\n",
       "    </tr>\n",
       "    <tr>\n",
       "      <th>177</th>\n",
       "      <td>50000</td>\n",
       "      <td>36</td>\n",
       "      <td>72</td>\n",
       "      <td>352</td>\n",
       "      <td>101</td>\n",
       "      <td>0</td>\n",
       "    </tr>\n",
       "    <tr>\n",
       "      <th>178</th>\n",
       "      <td>50000</td>\n",
       "      <td>37</td>\n",
       "      <td>74</td>\n",
       "      <td>364</td>\n",
       "      <td>107</td>\n",
       "      <td>1</td>\n",
       "    </tr>\n",
       "    <tr>\n",
       "      <th>179</th>\n",
       "      <td>50000</td>\n",
       "      <td>38</td>\n",
       "      <td>76</td>\n",
       "      <td>376</td>\n",
       "      <td>114</td>\n",
       "      <td>0</td>\n",
       "    </tr>\n",
       "    <tr>\n",
       "      <th>180</th>\n",
       "      <td>50000</td>\n",
       "      <td>39</td>\n",
       "      <td>78</td>\n",
       "      <td>388</td>\n",
       "      <td>121</td>\n",
       "      <td>0</td>\n",
       "    </tr>\n",
       "    <tr>\n",
       "      <th>181</th>\n",
       "      <td>50000</td>\n",
       "      <td>40</td>\n",
       "      <td>80</td>\n",
       "      <td>400</td>\n",
       "      <td>128</td>\n",
       "      <td>1</td>\n",
       "    </tr>\n",
       "  </tbody>\n",
       "</table>\n",
       "<p>182 rows × 6 columns</p>\n",
       "</div>"
      ],
      "text/plain": [
       "      Area  Sensing Range  Transmission Range  Number of Sensor nodes  \\\n",
       "0     5000             15                  30                     100   \n",
       "1     5000             16                  32                     112   \n",
       "2     5000             17                  34                     124   \n",
       "3     5000             18                  36                     136   \n",
       "4     5000             19                  38                     148   \n",
       "..     ...            ...                 ...                     ...   \n",
       "177  50000             36                  72                     352   \n",
       "178  50000             37                  74                     364   \n",
       "179  50000             38                  76                     376   \n",
       "180  50000             39                  78                     388   \n",
       "181  50000             40                  80                     400   \n",
       "\n",
       "     Number of Barriers  Feature_New  \n",
       "0                    30            1  \n",
       "1                    35            0  \n",
       "2                    42            0  \n",
       "3                    48            0  \n",
       "4                    56            1  \n",
       "..                  ...          ...  \n",
       "177                 101            0  \n",
       "178                 107            1  \n",
       "179                 114            0  \n",
       "180                 121            0  \n",
       "181                 128            1  \n",
       "\n",
       "[182 rows x 6 columns]"
      ]
     },
     "execution_count": 74,
     "metadata": {},
     "output_type": "execute_result"
    }
   ],
   "source": [
    "df = pd.read_csv(\"updated_data.csv\")\n",
    "df"
   ]
  },
  {
   "cell_type": "code",
   "execution_count": 75,
   "id": "6d83a7fa-4288-4205-b2de-cdad5012342d",
   "metadata": {},
   "outputs": [
    {
     "name": "stdout",
     "output_type": "stream",
     "text": [
      "Confusion Matrix:\n",
      " [[25  0]\n",
      " [30  0]]\n",
      "Accuracy: 0.45\n",
      "Precision: 0.00\n",
      "Recall: 0.00\n",
      "F1 Score: 0.00\n"
     ]
    }
   ],
   "source": [
    "df = pd.read_csv(\"updated_data.csv\")\n",
    "df['Target'] = df['Feature_New']\n",
    "X = df[['Area', 'Sensing Range', 'Transmission Range', 'Number of Sensor nodes','Number of Barriers']]\n",
    "y = df['Target']\n",
    "X_train, X_test, y_train, y_test = train_test_split(X, y, test_size=0.3, random_state=42)\n",
    "model = SVC()\n",
    "model.fit(X_train, y_train)\n",
    "y_pred = model.predict(X_test)\n",
    "conf_matrix = confusion_matrix(y_test, y_pred)\n",
    "print(\"Confusion Matrix:\\n\", conf_matrix)\n",
    "\n",
    "accuracy = accuracy_score(y_test, y_pred)\n",
    "precision = precision_score(y_test, y_pred)\n",
    "recall = recall_score(y_test, y_pred)\n",
    "f1 = f1_score(y_test, y_pred)\n",
    "\n",
    "print(f\"Accuracy: {accuracy:.2f}\")\n",
    "print(f\"Precision: {precision:.2f}\")\n",
    "print(f\"Recall: {recall:.2f}\")\n",
    "print(f\"F1 Score: {f1:.2f}\")"
   ]
  },
  {
   "cell_type": "code",
   "execution_count": 76,
   "id": "34dd2ae8-a781-410c-a28a-ab64121c3d36",
   "metadata": {},
   "outputs": [
    {
     "name": "stdout",
     "output_type": "stream",
     "text": [
      "0    94\n",
      "1    88\n",
      "Name: Target, dtype: int64\n",
      "Training target distribution:\n",
      " 0    66\n",
      "1    61\n",
      "Name: Target, dtype: int64\n",
      "Testing target distribution:\n",
      " 0    28\n",
      "1    27\n",
      "Name: Target, dtype: int64\n",
      "Confusion Matrix:\n",
      " [[16 12]\n",
      " [17 10]]\n",
      "Accuracy: 0.47\n",
      "Precision: 0.45\n",
      "Recall: 0.37\n",
      "F1 Score: 0.41\n"
     ]
    }
   ],
   "source": [
    "df = pd.read_csv(\"updated_data.csv\")\n",
    "df['Target'] = df['Feature_New']\n",
    "print(df['Target'].value_counts())\n",
    "\n",
    "X = df[['Area', 'Sensing Range', 'Transmission Range', 'Number of Sensor nodes']]\n",
    "y = df['Target']\n",
    "X_train, X_test, y_train, y_test = train_test_split(X, y, test_size=0.3, stratify=y, random_state=42)\n",
    "print(\"Training target distribution:\\n\", y_train.value_counts())\n",
    "print(\"Testing target distribution:\\n\", y_test.value_counts())\n",
    "\n",
    "if len(y_train.unique()) > 1 and len(y_test.unique()) > 1:\n",
    "    model = RandomForestClassifier(random_state=42)\n",
    "    model.fit(X_train, y_train)\n",
    "    y_pred = model.predict(X_test)\n",
    "    conf_matrix = confusion_matrix(y_test, y_pred)\n",
    "    print(\"Confusion Matrix:\\n\", conf_matrix)\n",
    "    accuracy = accuracy_score(y_test, y_pred)\n",
    "    precision = precision_score(y_test, y_pred)\n",
    "    recall = recall_score(y_test, y_pred)\n",
    "    f1 = f1_score(y_test, y_pred)\n",
    "    print(f\"Accuracy: {accuracy:.2f}\")\n",
    "    print(f\"Precision: {precision:.2f}\")\n",
    "    print(f\"Recall: {recall:.2f}\")\n",
    "    print(f\"F1 Score: {f1:.2f}\")\n",
    "else:\n",
    "    print(\"Both training and testing sets must have more than one class.\")\n"
   ]
  },
  {
   "cell_type": "code",
   "execution_count": null,
   "id": "35ea5ac8-fe7f-4f14-a9a6-644452ed3d6b",
   "metadata": {},
   "outputs": [],
   "source": []
  }
 ],
 "metadata": {
  "kernelspec": {
   "display_name": "Python 3 (ipykernel)",
   "language": "python",
   "name": "python3"
  },
  "language_info": {
   "codemirror_mode": {
    "name": "ipython",
    "version": 3
   },
   "file_extension": ".py",
   "mimetype": "text/x-python",
   "name": "python",
   "nbconvert_exporter": "python",
   "pygments_lexer": "ipython3",
   "version": "3.8.6"
  }
 },
 "nbformat": 4,
 "nbformat_minor": 5
}
